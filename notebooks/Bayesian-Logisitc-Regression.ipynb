{
 "cells": [
  {
   "cell_type": "code",
   "execution_count": 7,
   "id": "0e7ce87b-4449-4c2c-a9a5-1ebe119a8214",
   "metadata": {},
   "outputs": [],
   "source": [
    "import numpy as np\n",
    "import cmdstanpy as stan\n",
    "import os\n",
    "\n",
    "from gproc.generative import sample_at_x\n",
    "from gproc.plotting import contour_2d"
   ]
  },
  {
   "cell_type": "markdown",
   "id": "2cf032ed-167e-47f9-91fe-6d6cae22945a",
   "metadata": {},
   "source": [
    "## Bayesian Logistic Regression"
   ]
  },
  {
   "cell_type": "code",
   "execution_count": 8,
   "id": "867e5ccb-74bc-43e5-b0e6-1152eea721c8",
   "metadata": {},
   "outputs": [],
   "source": [
    "N = 2500 # Data size\n",
    "D = 2 # Data dimension\n",
    "\n",
    "x = np.random.uniform(-1, 1, N * D).reshape(-1, D) # Reshape to N x 2 matrix\n",
    "\n",
    "y, prob_y, f = sample_at_x(x, kernel_params = {'variance': 3.})"
   ]
  },
  {
   "cell_type": "code",
   "execution_count": 9,
   "id": "40d1c19c-10a7-4a27-ba21-b2442c965681",
   "metadata": {},
   "outputs": [
    {
     "data": {
      "text/plain": [
       "{'x': array([[ 0.17060021, -0.55571104],\n",
       "        [-0.23435436, -0.71816728],\n",
       "        [ 0.37393786, -0.58722191],\n",
       "        ...,\n",
       "        [-0.61153513, -0.52415122],\n",
       "        [-0.39148422, -0.55518158],\n",
       "        [ 0.87708986, -0.44331879]]),\n",
       " 'y': array([0, 1, 0, ..., 1, 1, 0]),\n",
       " 'd': 2,\n",
       " 'n': 2500}"
      ]
     },
     "execution_count": 9,
     "metadata": {},
     "output_type": "execute_result"
    }
   ],
   "source": [
    "# Write a function to organise the data into stan friendly format\n",
    "\n",
    "def stanvert(X, Y):\n",
    "    \"\"\"Converts coreset data to stan friendly format\n",
    "    \n",
    "    Keyword arguments:\n",
    "    X - matrix of feature\n",
    "    Y - vector of responses\n",
    "    \"\"\"\n",
    "    \n",
    "    stanY = np.zeros(Y.shape[0])\n",
    "    stanY[:] = Y\n",
    "    \n",
    "    # Set the -1's to 0's for stan\n",
    "    stanY[stanY == -1] = 0\n",
    "\n",
    "    # Prepare the data for stan; x = covariates, y = response, d = dimensions, n = sample size\n",
    "    sampler_data = {'x': X, 'y': stanY.astype(int), 'd': X.shape[1], 'n': X.shape[0]}\n",
    "    stanY = np.zeros(Y.shape[0])\n",
    "    stanY[:] = Y\n",
    "    \n",
    "    return sampler_data\n",
    "\n",
    "stanvert(x, y)"
   ]
  },
  {
   "cell_type": "code",
   "execution_count": 13,
   "id": "458fe3eb-4c10-4dd6-ae18-708b2bd0512f",
   "metadata": {},
   "outputs": [],
   "source": [
    "# Grab the Bayesian Logisitc Regression stan model from BLR.stan\n",
    "stan_file = os.path.join(stan.cmdstan_path(), 'BLR')\n"
   ]
  }
 ],
 "metadata": {
  "kernelspec": {
   "display_name": "Python 3 (ipykernel)",
   "language": "python",
   "name": "python3"
  },
  "language_info": {
   "codemirror_mode": {
    "name": "ipython",
    "version": 3
   },
   "file_extension": ".py",
   "mimetype": "text/x-python",
   "name": "python",
   "nbconvert_exporter": "python",
   "pygments_lexer": "ipython3",
   "version": "3.6.13"
  }
 },
 "nbformat": 4,
 "nbformat_minor": 5
}
