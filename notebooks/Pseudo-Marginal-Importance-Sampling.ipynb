{
 "cells": [
  {
   "cell_type": "code",
   "execution_count": 22,
   "id": "426557b6-b448-480d-becb-f881c49f29b6",
   "metadata": {},
   "outputs": [],
   "source": [
    "import numpy as np\n",
    "from scipy.stats import norm, multivariate_normal\n",
    "from scipy.linalg import det, cho_factor\n",
    "\n",
    "from gproc.generative import sample_at_x\n",
    "from gproc.kernels import squared_exponential\n",
    "from gproc.laplace import laplace_approximation_probit, chol_inverse"
   ]
  },
  {
   "cell_type": "code",
   "execution_count": 41,
   "id": "bf715f28-3784-4d3f-9062-e468a1d64c20",
   "metadata": {},
   "outputs": [],
   "source": [
    "N = 50\n",
    "\n",
    "# x = np.random.uniform(-1, 1, N).reshape(-1, 1) # Reshape to N x 1 matrix\n",
    "x = np.random.normal(0, 10, N).reshape(-1, 1)\n",
    "\n",
    "y, prob_y, f = sample_at_x(x, kernel_params={'lengthscale': 0.1, 'variance': 1.4})"
   ]
  },
  {
   "cell_type": "code",
   "execution_count": 42,
   "id": "66c174eb-187c-4a21-baae-cced36e491a8",
   "metadata": {},
   "outputs": [],
   "source": [
    "gram = squared_exponential(x, x, lengthscale=0.1, variance=1.4)\n",
    "\n",
    "# Work out determinant of kernel matrix\n",
    "chol_gram = cho_factor(gram + 1e-5 * np.eye(gram.shape[0]), lower=True, check_finite=True)[0]\n",
    "log_gram_det = 2 * np.sum(np.log(np.diagonal(chol_gram)))\n",
    "\n",
    "inverse_gram = chol_inverse(gram)"
   ]
  },
  {
   "cell_type": "code",
   "execution_count": 43,
   "id": "2389c81b-4ce3-448d-8e46-f21be7defd99",
   "metadata": {},
   "outputs": [
    {
     "name": "stdout",
     "output_type": "stream",
     "text": [
      "Converged: True\n"
     ]
    }
   ],
   "source": [
    "laplace_mean, df_ll, laplace_cov, objective_history, converged = laplace_approximation_probit(y, inverse_gram)\n",
    "print(f'Converged: {converged}')\n",
    "\n",
    "# Get the log determinant and inverse of the approximate covariance matrix\n",
    "chol_laplace_cov = cho_factor(laplace_cov + 1e-5 * np.eye(laplace_cov.shape[0]), lower=True, check_finite=True)[0]\n",
    "log_laplace_cov_det = 2 * np.sum(np.log(np.diagonal(chol_laplace_cov)))\n",
    "inverse_laplace_cov = chol_inverse(laplace_cov)"
   ]
  },
  {
   "cell_type": "code",
   "execution_count": 44,
   "id": "3a045fb3-db55-4dba-90ef-bbddc6fcbe4c",
   "metadata": {},
   "outputs": [
    {
     "data": {
      "text/plain": [
       "-64.34206260392915"
      ]
     },
     "execution_count": 44,
     "metadata": {},
     "output_type": "execute_result"
    }
   ],
   "source": [
    "log_laplace_cov_det"
   ]
  },
  {
   "cell_type": "code",
   "execution_count": 45,
   "id": "c643ce0a-18d3-49a1-9217-c816e940d72a",
   "metadata": {},
   "outputs": [
    {
     "data": {
      "text/plain": [
       "-55.76970702177828"
      ]
     },
     "execution_count": 45,
     "metadata": {},
     "output_type": "execute_result"
    }
   ],
   "source": [
    "def log_joint(y, f, inverse_gram, log_gram_det):\n",
    "    log_likelihood = np.sum(norm.logcdf(y * f))\n",
    "    log_prior = -0.5 * ( y.shape[0] * np.log(2 * np.pi) - log_gram_det - f.dot(inverse_gram).dot(f) )\n",
    "    return log_likelihood + log_prior\n",
    "\n",
    "log_joint(y, f, inverse_gram, log_gram_det)"
   ]
  },
  {
   "cell_type": "code",
   "execution_count": 46,
   "id": "ac6203fb-0a70-4c03-a9ac-80569f2ed0af",
   "metadata": {},
   "outputs": [
    {
     "data": {
      "text/plain": [
       "-31.19906950426808"
      ]
     },
     "execution_count": 46,
     "metadata": {},
     "output_type": "execute_result"
    }
   ],
   "source": [
    "def q_log_pdf(f, inverse_q_cov, log_q_det):\n",
    "    return -0.5 * ( f.shape[0] * np.log(2 * np.pi) - log_q_det - f.dot(inverse_q_cov).dot(f) )\n",
    "\n",
    "q_log_pdf(f, inverse_laplace_cov, log_laplace_cov_det)"
   ]
  },
  {
   "cell_type": "code",
   "execution_count": 47,
   "id": "74151bb7-0abe-43ad-9279-310f434cb984",
   "metadata": {},
   "outputs": [
    {
     "data": {
      "text/plain": [
       "-66.64621153114616"
      ]
     },
     "execution_count": 47,
     "metadata": {},
     "output_type": "execute_result"
    }
   ],
   "source": [
    "N_imp = 10\n",
    "f_samples = np.random.multivariate_normal(laplace_mean, laplace_cov, N_imp)\n",
    "\n",
    "log_joint(y, f_samples[0,:], inverse_gram, log_gram_det)"
   ]
  },
  {
   "cell_type": "code",
   "execution_count": 48,
   "id": "218fa521-4c4f-49c0-bbe7-bab50f6dfb8c",
   "metadata": {},
   "outputs": [],
   "source": [
    "def importance_sampler(y, x, q_mean, q_cov, N_imp, kernel_fcn=squared_exponential, kernel_params={}):\n",
    "    # Get gram matrix\n",
    "    gram = kernel_fcn(x, x, **kernel_params)\n",
    "    \n",
    "    # Inverse of gram matrix \n",
    "    inverse_gram = chol_inverse(gram)\n",
    "    \n",
    "    # Work out log-determinant of gram matrix\n",
    "    chol_gram = cho_factor(gram + 1e-5 * np.eye(gram.shape[0]), lower=True, check_finite=True)[0]\n",
    "    log_gram_det = 2 * np.sum(np.log(np.diagonal(chol_gram)))\n",
    "    \n",
    "    # Get the log determinant and inverse of the approximate covariance matrix\n",
    "    chol_q_cov = cho_factor(q_cov + 1e-5 * np.eye(q_cov.shape[0]), lower=True, check_finite=True)[0]\n",
    "    log_q_det = 2 * np.sum(np.log(np.diagonal(chol_q_cov)))\n",
    "    inverse_q_cov = chol_inverse(q_cov)\n",
    "    \n",
    "    # Define log joint function\n",
    "    def log_joint(y, f, inverse_gram, log_gram_det):\n",
    "        log_likelihood = np.sum(norm.logcdf(y * f))\n",
    "        log_prior = -0.5 * ( y.shape[0] * np.log(2 * np.pi) + log_gram_det + f.dot(inverse_gram).dot(f) )\n",
    "        return log_likelihood + log_prior\n",
    "\n",
    "    # Define log density of Normal approximation q\n",
    "    def q_log_pdf(f, inverse_q_cov, log_q_det):\n",
    "        return -0.5 * ( f.shape[0] * np.log(2 * np.pi) + log_q_det + f.dot(inverse_q_cov).dot(f) )\n",
    "\n",
    "    # Sample latent functions from the normal approximation to \n",
    "    f_samples = np.random.multivariate_normal(q_mean, q_cov, N_imp)\n",
    "    \n",
    "    # Importance sum\n",
    "    marg_approx = 0\n",
    "    for i in range(N_imp):\n",
    "        marg_approx += log_joint(y, f_samples[i, :], inverse_gram, log_gram_det) - q_log_pdf(f_samples[i, :], inverse_q_cov, log_q_det)\n",
    "    \n",
    "    return marg_approx/N_imp"
   ]
  },
  {
   "cell_type": "code",
   "execution_count": 51,
   "id": "121349c2-e883-4a19-84eb-1ef26b150575",
   "metadata": {},
   "outputs": [
    {
     "data": {
      "text/plain": [
       "-3358.8937567986864"
      ]
     },
     "execution_count": 51,
     "metadata": {},
     "output_type": "execute_result"
    }
   ],
   "source": [
    "importance_sampler(y, x, laplace_mean, laplace_cov, 1000)"
   ]
  },
  {
   "cell_type": "code",
   "execution_count": null,
   "id": "44841eb9-74f0-4ad7-88e3-6539f15fa1cb",
   "metadata": {},
   "outputs": [],
   "source": []
  }
 ],
 "metadata": {
  "kernelspec": {
   "display_name": "Python 3 (ipykernel)",
   "language": "python",
   "name": "python3"
  },
  "language_info": {
   "codemirror_mode": {
    "name": "ipython",
    "version": 3
   },
   "file_extension": ".py",
   "mimetype": "text/x-python",
   "name": "python",
   "nbconvert_exporter": "python",
   "pygments_lexer": "ipython3",
   "version": "3.9.12"
  }
 },
 "nbformat": 4,
 "nbformat_minor": 5
}
