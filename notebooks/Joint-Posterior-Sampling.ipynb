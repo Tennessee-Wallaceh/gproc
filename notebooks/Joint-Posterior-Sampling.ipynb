{
 "cells": [
  {
   "cell_type": "code",
   "execution_count": 24,
   "id": "515c47ec-d7d3-4d90-9582-43aa16e33716",
   "metadata": {},
   "outputs": [],
   "source": [
    "import numpy as np\n",
    "\n",
    "from matplotlib import pyplot as plt\n",
    "from tqdm.notebook import tqdm\n",
    "\n",
    "from gproc.elliptic import ess_samples_probit\n",
    "from gproc.metropolis_hastings import mh, mh_step\n",
    "from gproc.generative import sample_at_x\n",
    "from gproc.kernels import *\n",
    "from gproc.laplace import laplace_approximation_probit, chol_inverse\n",
    "from gproc.approx_marginal_is import importance_sampler"
   ]
  },
  {
   "cell_type": "code",
   "execution_count": 25,
   "id": "d6508f1d-467c-4879-a890-42322873fd5e",
   "metadata": {},
   "outputs": [],
   "source": [
    "N = 50 # Data size\n",
    "D = 1 # Data dimension\n",
    "\n",
    "x = np.random.normal(0, 1, N * D).reshape(-1, D) # Reshape to N x D matrix\n",
    "y, prob_y, f = sample_at_x(x, kernel_fcn = squared_exponential, kernel_params = {'lengthscale': 1, 'variance': 3})\n",
    "\n",
    "th_0 = np.array([1, 1])\n",
    "gram = squared_exponential(x, x, lengthscale = th_0[0], variance = th_0[1])\n",
    "inverse_gram = chol_inverse(gram)"
   ]
  },
  {
   "cell_type": "code",
   "execution_count": 26,
   "id": "e3a68767-6955-42eb-87d3-00ddac9e474c",
   "metadata": {},
   "outputs": [
    {
     "name": "stdout",
     "output_type": "stream",
     "text": [
      "Converged: True\n"
     ]
    },
    {
     "data": {
      "text/plain": [
       "-17.000894816973826"
      ]
     },
     "execution_count": 26,
     "metadata": {},
     "output_type": "execute_result"
    }
   ],
   "source": [
    "# Get approximation to latent function posterior\n",
    "laplace_mean, df_ll, laplace_cov, objective_history, converged = laplace_approximation_probit(y, inverse_gram)\n",
    "\n",
    "print(f'Converged: {converged}')\n",
    "\n",
    "marg_0 = importance_sampler(y, x, laplace_mean, laplace_cov, 100)\n",
    "marg_0"
   ]
  },
  {
   "cell_type": "code",
   "execution_count": 49,
   "id": "68cf9ec6-ccc6-487d-99d5-229b494b66fc",
   "metadata": {},
   "outputs": [],
   "source": [
    "def joint_sampler(iters, y, x, th_0, marg_0, cov, N_imp = 100, burn_in = 1, verbose = True):\n",
    "    \"\"\"\n",
    "    Function that jointly samples from the posterior distribution over\n",
    "    kernel parameters and the latent functions.\n",
    "\n",
    "    Parameters\n",
    "    ----------\n",
    "    iters: float\n",
    "        number of iterations of the joint sampling algorithm\n",
    "        \n",
    "    y: N dimensional numpy vector\n",
    "        responses\n",
    "    \n",
    "    x: N x D dimensional numpy array\n",
    "        covariates\n",
    "\n",
    "    th_0: numpy vector\n",
    "        initial kernel parameters\n",
    "\n",
    "    marg_0: float\n",
    "        initial approximation of the marginal\n",
    "        \n",
    "    cov: numpy array\n",
    "        covariance matrix for use in the proposal distribution\n",
    "        \n",
    "    N_imp: float\n",
    "        number of importance samples to use in marginal approximation\n",
    "    \n",
    "    burn_in: float\n",
    "        number of burn in samples to use in ELL-SS\n",
    "        \n",
    "    verbose: boolean\n",
    "        flag to produce loading bar\n",
    "\n",
    "    Returns\n",
    "    ----------\n",
    "    f_arr: numpy array\n",
    "        contains the latent function samples\n",
    "        \n",
    "    th_arr: numpy array\n",
    "        contains the kernel parmams chains move history\n",
    "    \n",
    "    marg_arr: numpy array\n",
    "        contains the history of marginal approximations\n",
    "    \n",
    "    acc_rate: float\n",
    "        acceptance rate of moves\n",
    "    \"\"\"\n",
    "    \n",
    "    # Create array to hold samples and move history\n",
    "    f_arr = np.zeros((iters, y.shape[0]))\n",
    "    th_arr = np.zeros((iters + 1, th_0.shape[0]))\n",
    "    marg_arr = np.zeros(iters + 1)\n",
    "    move_arr = np.zeros(iters)\n",
    "    \n",
    "    # Add initialisation\n",
    "    th_arr[0, :] = th_0\n",
    "    marg_arr[0] = marg_0\n",
    "    \n",
    "    for i in tqdm(range(iters), disable=not(verbose)):\n",
    "        # Get latent function sample corresponding to current kernel params\n",
    "        K = squared_exponential(x, x, lengthscale = np.exp(th_arr[i, 0]), variance = np.exp(th_arr[i, 1]))\n",
    "        K_chol = np.linalg.cholesky(K + 1e-05 * np.eye(K.shape[0]))\n",
    "        f_arr[i, :] = ess_samples_probit(K_chol, y, 1, burn_in, verbose = False)\n",
    "        \n",
    "        # Get new kernel params\n",
    "        th_arr[i + 1, :], marg_arr[i + 1], move_arr[i] = mh_step(y, x, th_arr[i, :], marg_arr[i], cov = cov, N_imp = N_imp)\n",
    "    \n",
    "    acc_rate = move_arr.mean()\n",
    "    return f_arr, th_arr, marg_arr, acc_rate\n",
    "        "
   ]
  },
  {
   "cell_type": "code",
   "execution_count": 50,
   "id": "fc717eee-eb15-4af2-ab47-562eec60f3af",
   "metadata": {},
   "outputs": [
    {
     "data": {
      "application/vnd.jupyter.widget-view+json": {
       "model_id": "d1da2a6e1545465f92ab5a496147ce37",
       "version_major": 2,
       "version_minor": 0
      },
      "text/plain": [
       "  0%|          | 0/10000 [00:00<?, ?it/s]"
      ]
     },
     "metadata": {},
     "output_type": "display_data"
    }
   ],
   "source": [
    "f_arr, th_arr, marg_arr, acc_rate = joint_sampler(10000, y, x, th_0, marg_0, cov = np.eye(th_0.shape[0]))"
   ]
  },
  {
   "cell_type": "code",
   "execution_count": 51,
   "id": "4a5c5d33-9732-4efa-ad56-b12f61ff2ce8",
   "metadata": {},
   "outputs": [
    {
     "data": {
      "text/plain": [
       "5.86"
      ]
     },
     "execution_count": 51,
     "metadata": {},
     "output_type": "execute_result"
    }
   ],
   "source": [
    "acc_rate*100"
   ]
  },
  {
   "cell_type": "code",
   "execution_count": 64,
   "id": "2a458766-3fd5-41aa-b6ef-fc1372c49e3a",
   "metadata": {},
   "outputs": [
    {
     "data": {
      "image/png": "[encoded data removed]",
      "text/plain": [
       "<Figure size 432x288 with 1 Axes>"
      ]
     },
     "metadata": {
      "needs_background": "light"
     },
     "output_type": "display_data"
    }
   ],
   "source": [
    "plt.plot(np.exp(th_arr[:, 0]))\n",
    "plt.axhline(y =  np.mean(np.exp(th_arr[:, 0])))\n",
    "plt.plot(np.exp(th_arr[:, 1]))\n",
    "plt.axhline(y =  np.mean(np.exp(th_arr[:, 0])))\n",
    "plt.show()"
   ]
  },
  {
   "cell_type": "code",
   "execution_count": 76,
   "id": "4a247f28-b454-4ca0-b0d2-b1a21e20c970",
   "metadata": {},
   "outputs": [
    {
     "data": {
      "image/png": "[encoded data removed]",
      "text/plain": [
       "<Figure size 432x288 with 1 Axes>"
      ]
     },
     "metadata": {
      "needs_background": "light"
     },
     "output_type": "display_data"
    }
   ],
   "source": [
    "sort_ix = np.argsort(x.reshape(-1))\n",
    "plt.scatter(x, y, alpha=0.1)\n",
    "plt.xlabel('x')\n",
    "plt.ylabel('f')\n",
    "plt.plot(x[sort_ix], f[sort_ix], label='True f')\n",
    "plt.plot(x[sort_ix], f_arr.mean(axis = 0)[sort_ix], c='g', label='Sample mean')\n",
    "plt.legend()\n",
    "plt.show()"
   ]
  },
  {
   "cell_type": "code",
   "execution_count": 75,
   "id": "e1da122b-e89a-4da3-bfe9-950f16cf6fe1",
   "metadata": {},
   "outputs": [],
   "source": [
    "# Crap ^"
   ]
  }
 ],
 "metadata": {
  "kernelspec": {
   "display_name": "Python 3 (ipykernel)",
   "language": "python",
   "name": "python3"
  },
  "language_info": {
   "codemirror_mode": {
    "name": "ipython",
    "version": 3
   },
   "file_extension": ".py",
   "mimetype": "text/x-python",
   "name": "python",
   "nbconvert_exporter": "python",
   "pygments_lexer": "ipython3",
   "version": "3.9.12"
  }
 },
 "nbformat": 4,
 "nbformat_minor": 5
}
