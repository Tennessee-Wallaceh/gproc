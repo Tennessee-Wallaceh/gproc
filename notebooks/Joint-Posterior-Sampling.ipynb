{
 "cells": [
  {
   "cell_type": "code",
   "execution_count": 1,
   "id": "da736523",
   "metadata": {},
   "outputs": [],
   "source": [
    "import numpy as np\n",
    "\n",
    "from matplotlib import pyplot as plt\n",
    "from tqdm.notebook import tqdm\n",
    "\n",
    "from gproc.elliptic_cpp import ess_samples_probit_cpp\n",
    "from gproc.metropolis_hastings import mh, mh_step\n",
    "from gproc.generative import sample_at_x\n",
    "from gproc.kernels import *\n",
    "from gproc.laplace import laplace_approximation_probit, chol_inverse\n",
    "from gproc.approx_marginal_is import importance_sampler\n",
    "from gproc.joint_sampler import joint_sampler"
   ]
  },
  {
   "cell_type": "code",
   "execution_count": 2,
   "id": "93fbe42c",
   "metadata": {},
   "outputs": [],
   "source": [
    "N = 50 # Data size\n",
    "D = 1 # Data dimension\n",
    "\n",
    "x = np.random.normal(0, 1, N * D).reshape(-1, D) # Reshape to N x D matrix\n",
    "true_lengthscale = 1\n",
    "true_variance = 1\n",
    "y, prob_y, f = sample_at_x(x, kernel_fcn = squared_exponential, kernel_params = {'lengthscale': true_lengthscale, 'variance': true_variance})\n",
    "\n",
    "lap_kernel = SquaredExponential(lengthscale = true_lengthscale, variance = true_variance)\n",
    "\n",
    "gram = lap_kernel.make_gram(x, x)\n",
    "inverse_gram = chol_inverse(gram)"
   ]
  },
  {
   "cell_type": "code",
   "execution_count": 3,
   "id": "9b3924e2",
   "metadata": {},
   "outputs": [
    {
     "name": "stdout",
     "output_type": "stream",
     "text": [
      "Converged: True\n"
     ]
    },
    {
     "data": {
      "text/plain": [
       "-33.595705533724924"
      ]
     },
     "execution_count": 3,
     "metadata": {},
     "output_type": "execute_result"
    }
   ],
   "source": [
    "# Get approximation to latent function posterior\n",
    "laplace_mean, df_ll, laplace_cov, objective_history, converged = laplace_approximation_probit(y, inverse_gram)\n",
    "\n",
    "print(f'Converged: {converged}')\n",
    "\n",
    "marg_0 = importance_sampler(y, x, laplace_mean, laplace_cov, 100)\n",
    "marg_0"
   ]
  },
  {
   "cell_type": "code",
   "execution_count": null,
   "id": "df5b7b55",
   "metadata": {},
   "outputs": [
    {
     "name": "stdout",
     "output_type": "stream",
     "text": [
      "Sampling hyperparameters\n"
     ]
    },
    {
     "name": "stderr",
     "output_type": "stream",
     "text": [
      " 44%|██████████████████████████████████████████████████████████████████████▊                                                                                          | 2200/5000 [00:13<00:17, 158.36it/s]"
     ]
    }
   ],
   "source": [
    "Kernel = SquaredExponential\n",
    "th_0 = np.array([np.log(true_lengthscale), np.log(true_variance)])\n",
    "f_arr, th_arr, marg_arr, move_arr, acc_rate_hist, cov_scale_hist, inverse_gram_arr = joint_sampler(5000, y, x, Kernel, th_0, marg_0, cov=np.eye(th_0.shape[0]), N_imp=64, hyper_burn_in=1000, ess_burn_in=1, verbose=True)"
   ]
  },
  {
   "cell_type": "code",
   "execution_count": null,
   "id": "441ae789",
   "metadata": {},
   "outputs": [],
   "source": [
    "plt.plot(cov_scale_hist)\n",
    "plt.show()\n",
    "plt.plot(acc_rate_hist)\n",
    "plt.show()"
   ]
  },
  {
   "cell_type": "code",
   "execution_count": null,
   "id": "e61ee957",
   "metadata": {},
   "outputs": [],
   "source": [
    "print(f'Acceptance rate = {move_arr.mean()*100}')\n",
    "\n",
    "plt.plot(np.exp(th_arr[:, 0]), label = 'Samples', linewidth = 0.5)\n",
    "plt.axhline(y = np.mean(np.exp(th_arr[:, 0])), c = 'y', label = 'Sample Mean')\n",
    "plt.axhline(y = true_lengthscale, label = 'Generating Lengthscale', c = 'r')\n",
    "plt.legend()\n",
    "plt.show()\n",
    "\n",
    "plt.plot(np.exp(th_arr[:, 1]), label = 'Samples', linewidth = 0.5)\n",
    "plt.axhline(y = np.mean(np.exp(th_arr[:, 1])), c = 'y', label = 'Sample Mean')\n",
    "plt.axhline(y = true_variance, label = 'Generating Variance', c = 'r')\n",
    "plt.legend()\n",
    "plt.show()"
   ]
  },
  {
   "cell_type": "code",
   "execution_count": null,
   "id": "395e074e",
   "metadata": {},
   "outputs": [],
   "source": [
    "sort_ix = np.argsort(x.reshape(-1))\n",
    "\n",
    "plt.xlabel('x')\n",
    "plt.ylabel('f')\n",
    "for i in range(f_arr.shape[0], 100):\n",
    "    plt.plot(x[sort_ix], f_arr[i, :][sort_ix], c = 'r', linewidth = 0.1, alpha = 0.8)\n",
    "    \n",
    "plt.plot(x[sort_ix], f[sort_ix], label='True f')\n",
    "plt.plot(x[sort_ix], f_arr.mean(axis = 0)[sort_ix], c='g', label='Sample mean')\n",
    "plt.scatter(x, y, alpha=0.5)\n",
    "\n",
    "plt.legend()\n",
    "plt.show()"
   ]
  },
  {
   "cell_type": "code",
   "execution_count": null,
   "id": "0829dadb",
   "metadata": {},
   "outputs": [],
   "source": []
  }
 ],
 "metadata": {
  "kernelspec": {
   "display_name": "Python 3 (ipykernel)",
   "language": "python",
   "name": "python3"
  },
  "language_info": {
   "codemirror_mode": {
    "name": "ipython",
    "version": 3
   },
   "file_extension": ".py",
   "mimetype": "text/x-python",
   "name": "python",
   "nbconvert_exporter": "python",
   "pygments_lexer": "ipython3",
   "version": "3.9.12"
  }
 },
 "nbformat": 4,
 "nbformat_minor": 5
}
