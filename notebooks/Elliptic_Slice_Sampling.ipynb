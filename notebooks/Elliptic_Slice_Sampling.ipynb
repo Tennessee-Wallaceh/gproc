{
 "cells": [
  {
   "cell_type": "markdown",
   "id": "7659e146",
   "metadata": {},
   "source": [
    "# Elliptical Slice Sampling\n",
    "The purpose of this notebook is to check if the `elliptic.py` file implementing Elliptical Slice Sampling works as expected, whilst demonstrating how it can be used to sample from the latent variable posterior $p(\\mathbf{f} | \\mathbf{y}, \\boldsymbol{\\theta})$."
   ]
  },
  {
   "cell_type": "code",
   "execution_count": 1,
   "id": "872cbca5",
   "metadata": {},
   "outputs": [],
   "source": [
    "import numpy as np\n",
    "\n",
    "from matplotlib import pyplot as plt\n",
    "\n",
    "from gproc.elliptic import ess_samples_probit\n",
    "from gproc.generative import sample_at_x\n",
    "from gproc.kernels import squared_exponential\n",
    "from gproc.kernels import rational_quadratic\n",
    "from gproc.kernels import periodic"
   ]
  },
  {
   "cell_type": "markdown",
   "id": "b4c21af3",
   "metadata": {},
   "source": [
    "## Data Generation"
   ]
  },
  {
   "cell_type": "code",
   "execution_count": 2,
   "id": "98827f9f",
   "metadata": {},
   "outputs": [],
   "source": [
    "N = 500 # Data size\n",
    "D = 1 # Data dimension\n",
    "\n",
    "x = np.random.uniform(-1, 1, N * D).reshape(-1, D) # Reshape to N x D matrix\n",
    "y, prob_y, f = sample_at_x(x, kernel_fcn=periodic, kernel_params = {'lengthscale': 1, 'variance': 1.4, 'period':2})"
   ]
  },
  {
   "cell_type": "markdown",
   "id": "64296b31",
   "metadata": {},
   "source": [
    "## Generate Latent Posterior Samples"
   ]
  },
  {
   "cell_type": "code",
   "execution_count": 3,
   "id": "61901195",
   "metadata": {},
   "outputs": [
    {
     "ename": "KeyboardInterrupt",
     "evalue": "",
     "output_type": "error",
     "traceback": [
      "\u001b[0;31m---------------------------------------------------------------------------\u001b[0m",
      "\u001b[0;31mKeyboardInterrupt\u001b[0m                         Traceback (most recent call last)",
      "Input \u001b[0;32mIn [3]\u001b[0m, in \u001b[0;36m<cell line: 7>\u001b[0;34m()\u001b[0m\n\u001b[1;32m      5\u001b[0m K \u001b[38;5;241m=\u001b[39m periodic(x, x, lengthscale\u001b[38;5;241m=\u001b[39m\u001b[38;5;241m1\u001b[39m, variance\u001b[38;5;241m=\u001b[39m\u001b[38;5;241m1.4\u001b[39m, period\u001b[38;5;241m=\u001b[39m\u001b[38;5;241m2\u001b[39m)\n\u001b[1;32m      6\u001b[0m K_chol \u001b[38;5;241m=\u001b[39m np\u001b[38;5;241m.\u001b[39mlinalg\u001b[38;5;241m.\u001b[39mcholesky(K \u001b[38;5;241m+\u001b[39m \u001b[38;5;241m0.0001\u001b[39m\u001b[38;5;241m*\u001b[39mnp\u001b[38;5;241m.\u001b[39meye(K\u001b[38;5;241m.\u001b[39mshape[\u001b[38;5;241m0\u001b[39m]))\n\u001b[0;32m----> 7\u001b[0m samples \u001b[38;5;241m=\u001b[39m \u001b[43mess_samples_probit\u001b[49m\u001b[43m(\u001b[49m\u001b[43mK_chol\u001b[49m\u001b[43m,\u001b[49m\u001b[43m \u001b[49m\u001b[43my\u001b[49m\u001b[43m,\u001b[49m\u001b[43m \u001b[49m\u001b[38;5;241;43m2500\u001b[39;49m\u001b[43m,\u001b[49m\u001b[43m \u001b[49m\u001b[38;5;241;43m500\u001b[39;49m\u001b[43m,\u001b[49m\u001b[43m \u001b[49m\u001b[43mverbose\u001b[49m\u001b[38;5;241;43m=\u001b[39;49m\u001b[38;5;28;43;01mFalse\u001b[39;49;00m\u001b[43m)\u001b[49m\n",
      "File \u001b[0;32m~/compass/group2/gproc/src/gproc/elliptic.py:103\u001b[0m, in \u001b[0;36mess_samples_probit\u001b[0;34m(K_chol, y, n_samples, burn_in, verbose)\u001b[0m\n\u001b[1;32m     98\u001b[0m burn_and_samples \u001b[38;5;241m=\u001b[39m np\u001b[38;5;241m.\u001b[39mzeros((burn_in \u001b[38;5;241m+\u001b[39m n_samples , K_chol\u001b[38;5;241m.\u001b[39mshape[\u001b[38;5;241m0\u001b[39m]))\n\u001b[1;32m    100\u001b[0m \u001b[38;5;28;01mfor\u001b[39;00m i \u001b[38;5;129;01min\u001b[39;00m tqdm(\u001b[38;5;28mrange\u001b[39m(\u001b[38;5;241m1\u001b[39m,burn_in \u001b[38;5;241m+\u001b[39m n_samples), disable\u001b[38;5;241m=\u001b[39m\u001b[38;5;129;01mnot\u001b[39;00m(verbose)):\n\u001b[1;32m    101\u001b[0m     \u001b[38;5;66;03m#if i%100 == 0:\u001b[39;00m\n\u001b[1;32m    102\u001b[0m         \u001b[38;5;66;03m#print(f\"~~~Sample {i} out of {burn_in + n_samples}~~~\")\u001b[39;00m\n\u001b[0;32m--> 103\u001b[0m     burn_and_samples[i,:] \u001b[38;5;241m=\u001b[39m \u001b[43mess_step\u001b[49m\u001b[43m(\u001b[49m\u001b[43mburn_and_samples\u001b[49m\u001b[43m[\u001b[49m\u001b[43mi\u001b[49m\u001b[38;5;241;43m-\u001b[39;49m\u001b[38;5;241;43m1\u001b[39;49m\u001b[43m,\u001b[49m\u001b[43m:\u001b[49m\u001b[43m]\u001b[49m\u001b[43m,\u001b[49m\u001b[43m \u001b[49m\u001b[43mK_chol\u001b[49m\u001b[43m,\u001b[49m\u001b[43m \u001b[49m\u001b[43mprobit_L\u001b[49m\u001b[43m)\u001b[49m\n\u001b[1;32m    105\u001b[0m \u001b[38;5;28;01mreturn\u001b[39;00m burn_and_samples[burn_in:,:]\n",
      "File \u001b[0;32m~/compass/group2/gproc/src/gproc/elliptic.py:29\u001b[0m, in \u001b[0;36mess_step\u001b[0;34m(f, K_chol, L)\u001b[0m\n\u001b[1;32m      6\u001b[0m \u001b[38;5;124;03m\"\"\"\u001b[39;00m\n\u001b[1;32m      7\u001b[0m \u001b[38;5;124;03mPerforms one transition of the Elliptic Slice Sampling algorithm.\u001b[39;00m\n\u001b[1;32m      8\u001b[0m \u001b[38;5;124;03mSee http://proceedings.mlr.press/v9/murray10a/murray10a.pdf for details\u001b[39;00m\n\u001b[0;32m   (...)\u001b[0m\n\u001b[1;32m     23\u001b[0m \u001b[38;5;124;03m    new sample from posterior :math:`p(f | y, theta)`\u001b[39;00m\n\u001b[1;32m     24\u001b[0m \u001b[38;5;124;03m\"\"\"\u001b[39;00m\n\u001b[1;32m     26\u001b[0m \u001b[38;5;66;03m#Auxilliary variate - specifies ellipse\u001b[39;00m\n\u001b[1;32m     27\u001b[0m nu \u001b[38;5;241m=\u001b[39m (\n\u001b[1;32m     28\u001b[0m       K_chol \u001b[38;5;241m@\u001b[39m\n\u001b[0;32m---> 29\u001b[0m       \u001b[43mnp\u001b[49m\u001b[38;5;241;43m.\u001b[39;49m\u001b[43mrandom\u001b[49m\u001b[38;5;241;43m.\u001b[39;49m\u001b[43mmultivariate_normal\u001b[49m\u001b[43m(\u001b[49m\u001b[43mnp\u001b[49m\u001b[38;5;241;43m.\u001b[39;49m\u001b[43mzeros\u001b[49m\u001b[43m(\u001b[49m\u001b[43mK_chol\u001b[49m\u001b[38;5;241;43m.\u001b[39;49m\u001b[43mshape\u001b[49m\u001b[43m[\u001b[49m\u001b[38;5;241;43m0\u001b[39;49m\u001b[43m]\u001b[49m\u001b[43m)\u001b[49m\u001b[43m,\u001b[49m\u001b[43m \u001b[49m\u001b[43mnp\u001b[49m\u001b[38;5;241;43m.\u001b[39;49m\u001b[43meye\u001b[49m\u001b[43m(\u001b[49m\u001b[43mK_chol\u001b[49m\u001b[38;5;241;43m.\u001b[39;49m\u001b[43mshape\u001b[49m\u001b[43m[\u001b[49m\u001b[38;5;241;43m0\u001b[39;49m\u001b[43m]\u001b[49m\u001b[43m)\u001b[49m\u001b[43m)\u001b[49m\n\u001b[1;32m     30\u001b[0m       )\u001b[38;5;241m.\u001b[39mT\n\u001b[1;32m     32\u001b[0m \u001b[38;5;66;03m#Log-likelihood threshold for slice sampling\u001b[39;00m\n\u001b[1;32m     33\u001b[0m u \u001b[38;5;241m=\u001b[39m np\u001b[38;5;241m.\u001b[39mrandom\u001b[38;5;241m.\u001b[39muniform(\u001b[38;5;241m0\u001b[39m,\u001b[38;5;241m1\u001b[39m)\n",
      "File \u001b[0;32mmtrand.pyx:4097\u001b[0m, in \u001b[0;36mnumpy.random.mtrand.RandomState.multivariate_normal\u001b[0;34m()\u001b[0m\n",
      "File \u001b[0;32m<__array_function__ internals>:5\u001b[0m, in \u001b[0;36msvd\u001b[0;34m(*args, **kwargs)\u001b[0m\n",
      "File \u001b[0;32m~/.conda/envs/gproc/lib/python3.9/site-packages/numpy/linalg/linalg.py:1661\u001b[0m, in \u001b[0;36msvd\u001b[0;34m(a, full_matrices, compute_uv, hermitian)\u001b[0m\n\u001b[1;32m   1658\u001b[0m         gufunc \u001b[38;5;241m=\u001b[39m _umath_linalg\u001b[38;5;241m.\u001b[39msvd_n_s\n\u001b[1;32m   1660\u001b[0m signature \u001b[38;5;241m=\u001b[39m \u001b[38;5;124m'\u001b[39m\u001b[38;5;124mD->DdD\u001b[39m\u001b[38;5;124m'\u001b[39m \u001b[38;5;28;01mif\u001b[39;00m isComplexType(t) \u001b[38;5;28;01melse\u001b[39;00m \u001b[38;5;124m'\u001b[39m\u001b[38;5;124md->ddd\u001b[39m\u001b[38;5;124m'\u001b[39m\n\u001b[0;32m-> 1661\u001b[0m u, s, vh \u001b[38;5;241m=\u001b[39m \u001b[43mgufunc\u001b[49m\u001b[43m(\u001b[49m\u001b[43ma\u001b[49m\u001b[43m,\u001b[49m\u001b[43m \u001b[49m\u001b[43msignature\u001b[49m\u001b[38;5;241;43m=\u001b[39;49m\u001b[43msignature\u001b[49m\u001b[43m,\u001b[49m\u001b[43m \u001b[49m\u001b[43mextobj\u001b[49m\u001b[38;5;241;43m=\u001b[39;49m\u001b[43mextobj\u001b[49m\u001b[43m)\u001b[49m\n\u001b[1;32m   1662\u001b[0m u \u001b[38;5;241m=\u001b[39m u\u001b[38;5;241m.\u001b[39mastype(result_t, copy\u001b[38;5;241m=\u001b[39m\u001b[38;5;28;01mFalse\u001b[39;00m)\n\u001b[1;32m   1663\u001b[0m s \u001b[38;5;241m=\u001b[39m s\u001b[38;5;241m.\u001b[39mastype(_realType(result_t), copy\u001b[38;5;241m=\u001b[39m\u001b[38;5;28;01mFalse\u001b[39;00m)\n",
      "\u001b[0;31mKeyboardInterrupt\u001b[0m: "
     ]
    }
   ],
   "source": [
    "model_lengthscale=0.1\n",
    "model_variance=1.4\n",
    "#K = squared_exponential(x, x, lengthscale=model_lengthscale, variance=model_variance)\n",
    "#K = rational_quadratic(x, x, lengthscale=0.1, variance=1.4, weighting=1)\n",
    "K = periodic(x, x, lengthscale=1, variance=1.4, period=2)\n",
    "K_chol = np.linalg.cholesky(K + 0.0001*np.eye(K.shape[0]))\n",
    "samples = ess_samples_probit(K_chol, y, 500, 100, verbose=False)"
   ]
  },
  {
   "cell_type": "markdown",
   "id": "646adad1",
   "metadata": {},
   "source": [
    "## Mean of Samples Against True Function and Laplace"
   ]
  },
  {
   "cell_type": "markdown",
   "id": "c639bdb4",
   "metadata": {},
   "source": [
    "### ESS Samples Mean"
   ]
  },
  {
   "cell_type": "code",
   "execution_count": null,
   "id": "1da2da58",
   "metadata": {},
   "outputs": [],
   "source": [
    "ess_mean = np.mean(samples, axis=0)"
   ]
  },
  {
   "cell_type": "markdown",
   "id": "885f9eed",
   "metadata": {},
   "source": [
    "### Laplace Approximation"
   ]
  },
  {
   "cell_type": "code",
   "execution_count": null,
   "id": "5801ca9c",
   "metadata": {},
   "outputs": [],
   "source": [
    "from gproc.laplace import laplace_approximation_probit, chol_inverse\n",
    "\n",
    "laplace_mean, df_ll, laplace_cov, objective_history, converged = laplace_approximation_probit(y, chol_inverse(K))"
   ]
  },
  {
   "cell_type": "code",
   "execution_count": null,
   "id": "4a097435",
   "metadata": {},
   "outputs": [],
   "source": [
    "laplace_samples = np.random.multivariate_normal(laplace_mean, laplace_cov, 2500)"
   ]
  },
  {
   "cell_type": "markdown",
   "id": "acb1823d",
   "metadata": {},
   "source": [
    "## Plot Means"
   ]
  },
  {
   "cell_type": "code",
   "execution_count": null,
   "id": "fd476c85",
   "metadata": {},
   "outputs": [],
   "source": [
    "ess_mean.shape"
   ]
  },
  {
   "cell_type": "code",
   "execution_count": null,
   "id": "a84a4768",
   "metadata": {},
   "outputs": [],
   "source": [
    "sort_ix = np.argsort(x.reshape(-1))\n",
    "\n",
    "fig, axarr = plt.subplots(1, 2, figsize=(18, 5), gridspec_kw={'width_ratios': [1,1]})\n",
    "\n",
    "axarr[0].scatter(x, y, alpha=0.1)\n",
    "axarr[0].set_xlabel('x')\n",
    "axarr[0].set_ylabel('f')\n",
    "\n",
    "for i in range(0, samples.shape[0], 50):\n",
    "    axarr[0].plot(x[sort_ix], samples[i, sort_ix], c = 'g', linewidth = 0.1)\n",
    "\n",
    "axarr[0].plot(x[sort_ix], ess_mean[sort_ix], c='g', label='ESS Mean')\n",
    "axarr[0].plot(x[sort_ix], laplace_mean[sort_ix], label='Laplace Mean')\n",
    "axarr[0].plot(x[sort_ix], f[sort_ix], label='True f')\n",
    "\n",
    "axarr[0].legend()\n",
    "\n",
    "axarr[1].scatter(x, y, alpha=0.1)\n",
    "axarr[1].set_xlabel('x')\n",
    "axarr[1].set_ylabel('f')\n",
    "\n",
    "for i in range(0, laplace_samples.shape[0], 50):\n",
    "    axarr[1].plot(x[sort_ix], laplace_samples[i, sort_ix], c = 'g', linewidth = 0.1)\n",
    "\n",
    "axarr[1].plot(x[sort_ix], ess_mean[sort_ix], c='g', label='ESS Mean')\n",
    "axarr[1].plot(x[sort_ix], laplace_mean[sort_ix], label='Laplace Mean')\n",
    "axarr[1].plot(x[sort_ix], f[sort_ix], label='True f')\n",
    "axarr[0].legend()"
   ]
  },
  {
   "cell_type": "code",
   "execution_count": null,
   "id": "0cc2aa82",
   "metadata": {},
   "outputs": [],
   "source": [
    "plt.hist(samples[:,0], bins=50)"
   ]
  }
 ],
 "metadata": {
  "kernelspec": {
   "display_name": "Python 3 (ipykernel)",
   "language": "python",
   "name": "python3"
  },
  "language_info": {
   "codemirror_mode": {
    "name": "ipython",
    "version": 3
   },
   "file_extension": ".py",
   "mimetype": "text/x-python",
   "name": "python",
   "nbconvert_exporter": "python",
   "pygments_lexer": "ipython3",
   "version": "3.9.12"
  }
 },
 "nbformat": 4,
 "nbformat_minor": 5
}
