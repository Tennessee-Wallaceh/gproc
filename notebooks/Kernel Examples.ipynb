{
 "cells": [
  {
   "cell_type": "code",
   "execution_count": 7,
   "id": "0d15887e-f6a6-4b29-a792-4821b1aabb34",
   "metadata": {},
   "outputs": [],
   "source": [
    "import numpy as np\n",
    "import matplotlib.pyplot as plt\n",
    "from scipy.spatial.distance import cdist\n",
    "from scipy.stats import gamma, norm\n",
    "\n",
    "from functools import reduce\n",
    "\n",
    "from gproc.generative import sample_at_x\n",
    "from gproc.kernels import *"
   ]
  },
  {
   "cell_type": "code",
   "execution_count": 8,
   "id": "e375d042-ae58-4ffd-b534-b3066883d8ed",
   "metadata": {},
   "outputs": [],
   "source": [
    "# Data sizes and dimension\n",
    "D = 2\n",
    "N = 50\n",
    "M = 50\n",
    "\n",
    "x_1 = np.random.uniform(-1, 1, N * D).reshape(-1, D) # Reshape to N x D matrix\n",
    "x_2 = np.random.uniform(-1, 1, M * D).reshape(-1, D) # Reshape to N x D matrix"
   ]
  },
  {
   "cell_type": "code",
   "execution_count": 15,
   "id": "9c335551-b558-46fa-8886-d35c80cbfb7c",
   "metadata": {},
   "outputs": [
    {
     "data": {
      "text/plain": [
       "array([[0.01109761, 0.02844934, 0.01708996, ..., 0.0170425 , 0.22316104,\n",
       "        0.34114449],\n",
       "       [0.09540421, 0.11163667, 0.10460524, ..., 0.11207184, 0.20599508,\n",
       "        0.26189349],\n",
       "       [0.04052111, 0.04684166, 0.04067562, ..., 0.06777993, 0.16726198,\n",
       "        0.39323648],\n",
       "       ...,\n",
       "       [0.00411736, 0.09475691, 0.0288173 , ..., 0.00118114, 0.41423739,\n",
       "        0.01601829],\n",
       "       [0.03811173, 0.34209404, 0.20910285, ..., 0.00390382, 0.0680986 ,\n",
       "        0.00062117],\n",
       "       [0.01674812, 0.21081006, 0.08608402, ..., 0.00479441, 0.44683407,\n",
       "        0.02133025]])"
      ]
     },
     "execution_count": 15,
     "metadata": {},
     "output_type": "execute_result"
    }
   ],
   "source": [
    "Kernel = SquaredExponential(lengthscale = 0.4, variance = 0.5)\n",
    "Kernel.make_gram(x_1, x_2)"
   ]
  }
 ],
 "metadata": {
  "kernelspec": {
   "display_name": "Python 3 (ipykernel)",
   "language": "python",
   "name": "python3"
  },
  "language_info": {
   "codemirror_mode": {
    "name": "ipython",
    "version": 3
   },
   "file_extension": ".py",
   "mimetype": "text/x-python",
   "name": "python",
   "nbconvert_exporter": "python",
   "pygments_lexer": "ipython3",
   "version": "3.9.12"
  }
 },
 "nbformat": 4,
 "nbformat_minor": 5
}
