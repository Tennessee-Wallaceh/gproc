{
 "cells": [
  {
   "cell_type": "code",
   "execution_count": 5,
   "id": "0d15887e-f6a6-4b29-a792-4821b1aabb34",
   "metadata": {},
   "outputs": [],
   "source": [
    "import numpy as np\n",
    "from scipy.spatial.distance import cdist\n"
   ]
  },
  {
   "cell_type": "code",
   "execution_count": 16,
   "id": "e375d042-ae58-4ffd-b534-b3066883d8ed",
   "metadata": {},
   "outputs": [],
   "source": [
    "# Data sizes and dimension\n",
    "D = 3\n",
    "N = 50\n",
    "M = 25\n",
    "\n",
    "x_1 = np.random.uniform(-1, 1, N * D).reshape(-1, D) # Reshape to N x D matrix\n",
    "x_2 = np.random.uniform(-1, 1, M * D).reshape(-1, D) # Reshape to N x D matrix"
   ]
  },
  {
   "cell_type": "code",
   "execution_count": 17,
   "id": "3c258896-acc1-43a0-b1e1-3e8698f7a2d9",
   "metadata": {},
   "outputs": [],
   "source": [
    "def squared_exponential(x_1, x_2, lengthscale=0.5, variance=1.0):\n",
    "    \"\"\"\n",
    "    Also known as RBF.\n",
    "    \n",
    "    :param x_1, N x d matrix\n",
    "    :param x_2, M x d matrix\n",
    "\n",
    "    :param lengthscale, float\n",
    "    :param variance, float\n",
    "\n",
    "    :returns K, N x M matrix, K_{ij} = k(x_i, x_j; lengthscale, variance)\n",
    "    \"\"\"\n",
    "    sq_diffs = cdist(x_1, x_2, metric = 'sqeuclidean')\n",
    "    return variance * np.exp(-0.5 * sq_diffs / lengthscale)\n",
    "\n",
    "squared_exponential(x_1, x_2)"
   ]
  },
  {
   "cell_type": "code",
   "execution_count": 26,
   "id": "ecc5a3eb-2f49-4bac-8e1d-e3fc02a7415c",
   "metadata": {},
   "outputs": [
    {
     "data": {
      "text/plain": [
       "array([[0.85052993, 0.8478948 , 0.86874394, ..., 0.88847432, 0.65276747,\n",
       "        0.72587107],\n",
       "       [0.46877545, 0.4920524 , 0.54132667, ..., 0.54027954, 0.85566482,\n",
       "        0.41767939],\n",
       "       [0.72330276, 0.96543133, 0.66239053, ..., 0.68969727, 0.47767143,\n",
       "        0.56511995],\n",
       "       ...,\n",
       "       [0.8937671 , 0.85025234, 0.86081503, ..., 0.90303642, 0.55483299,\n",
       "        0.79767567],\n",
       "       [0.55099102, 0.53583431, 0.56732754, ..., 0.61445604, 0.53150887,\n",
       "        0.55635122],\n",
       "       [0.4500528 , 0.50735521, 0.49924313, ..., 0.49054977, 0.66511249,\n",
       "        0.37862549]])"
      ]
     },
     "execution_count": 26,
     "metadata": {},
     "output_type": "execute_result"
    }
   ],
   "source": [
    "def rational_quadratic(x_1, x_2, lengthscale=0.5, variance=1.0, weighting=1.0):\n",
    "    \"\"\"\n",
    "    Rational Quadratic Kernel, equivalent to adding together many Squared Exponential kernels with different \n",
    "    lengthscales. Weight parameter determine relative weighting of large and small scale variations. When\n",
    "    the weighting goes to infinity, RQ = SE.\n",
    "    \n",
    "    :param x_1, N x d matrix\n",
    "    :param x_2, M x d matrix\n",
    "\n",
    "    :param lengthscale, float\n",
    "    :param variance, float\n",
    "    :param weighting, float\n",
    "\n",
    "    :returns K, N x M matrix, K_{ij} = k(x_i, x_j; lengthscale, variance, weighting)\n",
    "    \"\"\"\n",
    "    sq_diffs = cdist(x_1, x_2, metric = 'sqeuclidean')\n",
    "    return variance * ( (1 + sq_diffs / 2*lengthscale * weighting) ** (-weighting) )\n",
    "\n",
    "rational_quadratic(x_1, x_2)"
   ]
  },
  {
   "cell_type": "code",
   "execution_count": 31,
   "id": "cfcac19d-85b4-4ee7-8938-8851b3218bbd",
   "metadata": {},
   "outputs": [
    {
     "data": {
      "text/plain": [
       "(50, 25)"
      ]
     },
     "execution_count": 31,
     "metadata": {},
     "output_type": "execute_result"
    }
   ],
   "source": [
    "def periodic_kernel(x_1, x_2, lengthscale=0.5, variance=1.0, period=1.0):\n",
    "    \"\"\"\n",
    "    The periodic kernel allows one to model functions which repeat themselves exactly.\n",
    "    \n",
    "    :param x_1, N x d matrix\n",
    "    :param x_2, M x d matrix\n",
    "\n",
    "    :param lengthscale, float\n",
    "    :param variance, float\n",
    "    :param period, float\n",
    "\n",
    "    :returns K, N x M matrix, K_{ij} = k(x_i, x_j; lengthscale, variance, weighting)\n",
    "    \"\"\"\n",
    "    diffs = cdist(x_1, x_2, metric = 'euclidean')\n",
    "    return variance * np.exp(-0.5 * np.sin(np.pi * diffs / period) / lengthscale)\n",
    "\n",
    "periodic_kernel(x_1, x_2)"
   ]
  },
  {
   "cell_type": "code",
   "execution_count": null,
   "id": "a3c04e9e-e19c-478c-adab-3b22b4ab56ab",
   "metadata": {},
   "outputs": [],
   "source": [
    "def locally_periodic_kernel(x_1, x_2, lengthscale=0.5, variance=1.0, period=1.0):\n",
    "    \"\"\"\n",
    "    Also known as RBF.\n",
    "    :param x_1, N x d matrix\n",
    "    :param x_2, M x d matrix\n",
    "\n",
    "    :param lengthscale, float\n",
    "    :param variance, float\n",
    "    :param period, float\n",
    "\n",
    "    :returns K, N x M matrix, K_{ij} = k(x_i, x_j; lengthscale, variance, weighting)\n",
    "    \"\"\"\n",
    "    diffs = cdist(x_1, x_2, metric = 'euclidean')\n",
    "    return variance * np.exp(-0.5 * np.sin(np.pi * diffs / period) / lengthscale)\n",
    "\n",
    "periodic_kernel(x_1, x_2)"
   ]
  }
 ],
 "metadata": {
  "kernelspec": {
   "display_name": "Python 3 (ipykernel)",
   "language": "python",
   "name": "python3"
  },
  "language_info": {
   "codemirror_mode": {
    "name": "ipython",
    "version": 3
   },
   "file_extension": ".py",
   "mimetype": "text/x-python",
   "name": "python",
   "nbconvert_exporter": "python",
   "pygments_lexer": "ipython3",
   "version": "3.9.12"
  }
 },
 "nbformat": 4,
 "nbformat_minor": 5
}
