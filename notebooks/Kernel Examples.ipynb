{
 "cells": [
  {
   "cell_type": "code",
   "execution_count": 43,
   "id": "0d15887e-f6a6-4b29-a792-4821b1aabb34",
   "metadata": {},
   "outputs": [],
   "source": [
    "import numpy as np\n",
    "import matplotlib.pyplot as plt\n",
    "from scipy.spatial.distance import cdist\n",
    "from scipy.stats import gamma, norm\n",
    "\n",
    "from functools import reduce\n",
    "\n",
    "from gproc.generative import sample_at_x\n",
    "from gproc.laplace import chol_inverse"
   ]
  },
  {
   "cell_type": "code",
   "execution_count": 44,
   "id": "e375d042-ae58-4ffd-b534-b3066883d8ed",
   "metadata": {},
   "outputs": [],
   "source": [
    "# Data sizes and dimension\n",
    "D = 2\n",
    "N = 50\n",
    "M = 50\n",
    "\n",
    "x_1 = np.random.uniform(-1, 1, N * D).reshape(-1, D) # Reshape to N x D matrix\n",
    "x_2 = np.random.uniform(-1, 1, M * D).reshape(-1, D) # Reshape to N x D matrix"
   ]
  },
  {
   "cell_type": "code",
   "execution_count": 45,
   "id": "e3edb36d-f626-4f26-813a-022f02d1350d",
   "metadata": {},
   "outputs": [],
   "source": [
    "class BaseKernel:\n",
    "    def __init__(self):\n",
    "        pass\n",
    "\n",
    "    def make_gram(self, x_1, x_2):\n",
    "        raise NotImplementedError()\n",
    "        \n",
    "    def invert_gram(self):\n",
    "        raise NotImplementedError()\n",
    "    \n",
    "    def constrain_params(self, unconstrained_param_array):\n",
    "        raise NotImplementedError()\n",
    "\n",
    "    def prior_log_pdf(self, param_array):\n",
    "        raise NotImplementedError()"
   ]
  },
  {
   "cell_type": "code",
   "execution_count": 46,
   "id": "3c258896-acc1-43a0-b1e1-3e8698f7a2d9",
   "metadata": {},
   "outputs": [
    {
     "data": {
      "text/plain": [
       "(50, 50)"
      ]
     },
     "execution_count": 46,
     "metadata": {},
     "output_type": "execute_result"
    }
   ],
   "source": [
    "def squared_exponential(x_1, x_2, lengthscale=0.5, variance=1.0):\n",
    "    \"\"\"\n",
    "    Also known as RBF.\n",
    "    \n",
    "    :param x_1, N x d matrix\n",
    "    :param x_2, M x d matrix\n",
    "\n",
    "    :param lengthscale, float\n",
    "    :param variance, float\n",
    "\n",
    "    :returns K, N x M matrix, K_{ij} = k(x_i, x_j; lengthscale, variance)\n",
    "    \"\"\"\n",
    "    sq_diffs = cdist(x_1, x_2, metric = 'sqeuclidean')\n",
    "    return variance * np.exp(-0.5 * sq_diffs / lengthscale)\n",
    "\n",
    "squared_exponential(x_1, x_2).shape"
   ]
  },
  {
   "cell_type": "code",
   "execution_count": 47,
   "id": "b86cfdb8-03ad-449e-9cdf-578b1541ba63",
   "metadata": {},
   "outputs": [
    {
     "data": {
      "text/plain": [
       "-3.0459514049176044"
      ]
     },
     "execution_count": 47,
     "metadata": {},
     "output_type": "execute_result"
    }
   ],
   "source": [
    "class SquaredExponential(BaseKernel):\n",
    "    def __init__(self, lengthscale=0.5, variance=1.0):\n",
    "        self.lengthscale = lengthscale\n",
    "        self.variance = variance\n",
    "        self.param_dim = 2\n",
    "        super().__init__()\n",
    "    \n",
    "    def make_gram(self, x_1, x_2):\n",
    "        self.gram = squared_exponential(x_1, x_2, self.lengthscale, self.variance)\n",
    "        return self.gram \n",
    "    \n",
    "    def invert_gram(self):\n",
    "        self.inverse_gram = chol_inverse(self.gram)\n",
    "        return self.inverse_gram\n",
    "    \n",
    "    def constrain_params(self, unconstrained_params):\n",
    "        if unconstrained_params.shape[0] != self.param_dim:\n",
    "            raise AssertionError('Parameter array not the same size as kernel parameter dimension')\n",
    "        self.constrained_params = np.exp(unconstrained_params)\n",
    "        return self.constrained_params\n",
    "    \n",
    "    def prior_log_pdf(self, d):\n",
    "        self.prior = gamma.logpdf(self.constrained_params[0], a = 1, scale = np.sqrt(d))\n",
    "        self.prior += gamma.logpdf(self.constrained_params[1], a = 1.2, scale = 1/0.2)\n",
    "        return self.prior\n",
    "\n",
    "kernel = SquaredExponential(lengthscale = 1, variance = 1)\n",
    "kernel.make_gram(x_1, x_1)\n",
    "kernel.constrain_params(np.zeros(2))\n",
    "kernel.prior_log_pdf(1)"
   ]
  },
  {
   "cell_type": "code",
   "execution_count": 48,
   "id": "ecc5a3eb-2f49-4bac-8e1d-e3fc02a7415c",
   "metadata": {},
   "outputs": [
    {
     "data": {
      "text/plain": [
       "(50, 50)"
      ]
     },
     "execution_count": 48,
     "metadata": {},
     "output_type": "execute_result"
    }
   ],
   "source": [
    "def rational_quadratic(x_1, x_2, lengthscale=0.5, variance=1.0, weighting=1.0):\n",
    "    \"\"\"\n",
    "    Rational Quadratic Kernel, equivalent to adding together many Squared Exponential kernels with different \n",
    "    lengthscales. Weight parameter determine relative weighting of large and small scale variations. When\n",
    "    the weighting goes to infinity, RQ = SE.\n",
    "    \n",
    "    :param x_1, N x d matrix\n",
    "    :param x_2, M x d matrix\n",
    "\n",
    "    :param lengthscale, float\n",
    "    :param variance, float\n",
    "    :param weighting, float\n",
    "\n",
    "    :returns K, N x M matrix, K_{ij} = k(x_i, x_j; lengthscale, variance, weighting)\n",
    "    \"\"\"\n",
    "    sq_diffs = cdist(x_1, x_2, metric = 'sqeuclidean')\n",
    "    return variance * ( (1 + sq_diffs / 2*lengthscale * weighting) ** (-weighting) )\n",
    "\n",
    "rational_quadratic(x_1, x_2).shape"
   ]
  },
  {
   "cell_type": "code",
   "execution_count": 49,
   "id": "06a9c607-6c5e-4598-88f9-cac68aa8531c",
   "metadata": {},
   "outputs": [
    {
     "data": {
      "text/plain": [
       "-14.558996227068079"
      ]
     },
     "execution_count": 49,
     "metadata": {},
     "output_type": "execute_result"
    }
   ],
   "source": [
    "class RationalQuadratic(BaseKernel):\n",
    "    def __init__(self, lengthscale=0.5, variance=1.0, weighting=1.0):\n",
    "        self.lengthscale = lengthscale\n",
    "        self.variance = variance\n",
    "        self.weighting = weighting\n",
    "        self.param_dim = 3\n",
    "        super().__init__()\n",
    "    \n",
    "    def make_gram(self, x_1, x_2):\n",
    "        self.gram = rational_quadratic(x_1, x_2, self.lengthscale, self.variance, self.weighting)\n",
    "        return self.gram \n",
    "    \n",
    "    def invert_gram(self):\n",
    "        self.inverse_gram = chol_inverse(self.gram)\n",
    "        return self.inverse_gram\n",
    "    \n",
    "    def constrain_params(self, unconstrained_params):\n",
    "        if unconstrained_params.shape[0] != self.param_dim:\n",
    "            raise AssertionError('Parameter array not the same size as kernel parameter dimension')\n",
    "        self.constrained_params = np.exp(unconstrained_params)\n",
    "        return self.constrained_params\n",
    "    \n",
    "    def prior_log_pdf(self, d):\n",
    "        self.prior = gamma.logpdf(self.constrained_params[0], a = 1, scale = np.sqrt(d))\n",
    "        self.prior += gamma.logpdf(self.constrained_params[1], a = 1.2, scale = 1/0.2)\n",
    "        self.prior += gamma.logpdf(self.constrained_params[2], a = 0.00001, scale = 1/0.00001) # uninformative prior\n",
    "        return self.prior\n",
    "\n",
    "kernel = RationalQuadratic(lengthscale = 1, variance = 1, weighting = 1)\n",
    "kernel.make_gram(x_1, x_1)\n",
    "kernel.constrain_params(np.zeros(3))\n",
    "kernel.prior_log_pdf(1)"
   ]
  },
  {
   "cell_type": "code",
   "execution_count": 50,
   "id": "cfcac19d-85b4-4ee7-8938-8851b3218bbd",
   "metadata": {},
   "outputs": [
    {
     "data": {
      "text/plain": [
       "(50, 50)"
      ]
     },
     "execution_count": 50,
     "metadata": {},
     "output_type": "execute_result"
    }
   ],
   "source": [
    "def periodic(x_1, x_2, lengthscale=0.5, variance=1.0, period=1.0):\n",
    "    \"\"\"\n",
    "    The periodic kernel allows one to model functions which repeat themselves exactly.\n",
    "    \n",
    "    :param x_1, N x d matrix\n",
    "    :param x_2, M x d matrix\n",
    "\n",
    "    :param lengthscale, float\n",
    "    :param variance, float\n",
    "    :param period, float\n",
    "\n",
    "    :returns K, N x M matrix, K_{ij} = k(x_i, x_j; lengthscale, variance, period)\n",
    "    \"\"\"\n",
    "    diffs = cdist(x_1, x_2, metric = 'euclidean')\n",
    "    return variance * np.exp(-2 * np.sin(np.pi * diffs / period)**2 / lengthscale)\n",
    "\n",
    "periodic(x_1, x_2).shape"
   ]
  },
  {
   "cell_type": "code",
   "execution_count": 51,
   "id": "1fb0beec-26d6-4e66-a8ab-d86b5868fcee",
   "metadata": {},
   "outputs": [
    {
     "data": {
      "text/plain": [
       "-14.558996227068079"
      ]
     },
     "execution_count": 51,
     "metadata": {},
     "output_type": "execute_result"
    }
   ],
   "source": [
    "class Periodic(BaseKernel):\n",
    "    def __init__(self, lengthscale=0.5, variance=1.0, period=1.0):\n",
    "        self.lengthscale = lengthscale\n",
    "        self.variance = variance\n",
    "        self.period = period\n",
    "        self.param_dim = 3\n",
    "        super().__init__()\n",
    "    \n",
    "    def make_gram(self, x_1, x_2):\n",
    "        self.gram = periodic(x_1, x_2, self.lengthscale, self.variance, self.period)\n",
    "        return self.gram \n",
    "    \n",
    "    def invert_gram(self):\n",
    "        self.inverse_gram = chol_inverse(self.gram)\n",
    "        return self.inverse_gram\n",
    "    \n",
    "    def constrain_params(self, unconstrained_params):\n",
    "        if unconstrained_params.shape[0] != self.param_dim:\n",
    "            raise AssertionError('Parameter array not the same size as kernel parameter dimension')\n",
    "        self.constrained_params = np.exp(unconstrained_params)\n",
    "        return self.constrained_params\n",
    "    \n",
    "    def prior_log_pdf(self, d):\n",
    "        self.prior = gamma.logpdf(self.constrained_params[0], a = 1, scale = np.sqrt(d))\n",
    "        self.prior += gamma.logpdf(self.constrained_params[1], a = 1.2, scale = 1/0.2)\n",
    "        self.prior += gamma.logpdf(self.constrained_params[2], a = 0.00001, scale = 1/0.00001) # uninformative prior\n",
    "        return self.prior\n",
    "\n",
    "kernel = Periodic(lengthscale = 1, variance = 1, period = 10)\n",
    "kernel.make_gram(x_1, x_1)\n",
    "kernel.constrain_params(np.zeros(3))\n",
    "kernel.prior_log_pdf(1)"
   ]
  },
  {
   "cell_type": "code",
   "execution_count": 52,
   "id": "a3c04e9e-e19c-478c-adab-3b22b4ab56ab",
   "metadata": {},
   "outputs": [
    {
     "data": {
      "text/plain": [
       "array([[0.44058788, 0.01092957, 0.13111612, ..., 0.01430758, 0.00326764,\n",
       "        0.00469625],\n",
       "       [0.05628993, 0.01544622, 0.00197097, ..., 0.00205823, 0.09985992,\n",
       "        0.06121271],\n",
       "       [0.0041852 , 0.00844816, 0.00705453, ..., 0.30365039, 0.00778572,\n",
       "        0.01022536],\n",
       "       ...,\n",
       "       [0.00281124, 0.06758655, 0.13390655, ..., 0.00262308, 0.41816697,\n",
       "        0.01587509],\n",
       "       [0.03599279, 0.04983472, 0.0169742 , ..., 0.25442687, 0.11076468,\n",
       "        0.02124298],\n",
       "       [0.40415466, 0.36215552, 0.03015017, ..., 0.076908  , 0.04661025,\n",
       "        0.12075881]])"
      ]
     },
     "execution_count": 52,
     "metadata": {},
     "output_type": "execute_result"
    }
   ],
   "source": [
    "def locally_periodic(x_1, x_2, lengthscale_sqe=0.5, variance=1.0, lengthscale_p =0.5, period=1.0):\n",
    "    \"\"\"\n",
    "    A squared exponential kernel multiplied by a periodic kernel. Allows one to model periodic functions\n",
    "    which can vary slowly over time.\n",
    "    \n",
    "    :param x_1, N x d matrix\n",
    "    :param x_2, M x d matrix\n",
    "\n",
    "    :param lengthscale, float\n",
    "    :param variance, float\n",
    "    :param period, float\n",
    "\n",
    "    :returns K, N x M matrix, K_{ij} = k(x_i, x_j; lengthscale, variance, period)\n",
    "    \"\"\"\n",
    "    \n",
    "    diffs = cdist(x_1, x_2, metric = 'euclidean')\n",
    "    sq_diffs = cdist(x_1, x_2, metric = 'sqeuclidean')\n",
    "    \n",
    "    K_period = np.exp(-2 * np.sin(np.pi * diffs / period)**2 / lengthscale_p)\n",
    "    K_sqe = np.exp(-0.5 * sq_diffs / lengthscale_sqe)\n",
    "    return variance * np.multiply(K_period, K_sqe)\n",
    "\n",
    "locally_periodic(x_1, x_2, 1, 0.5, 0.5, 0.5)"
   ]
  },
  {
   "cell_type": "code",
   "execution_count": 53,
   "id": "1b97ff78-eae0-4420-ade4-6cffbcdffb6b",
   "metadata": {},
   "outputs": [
    {
     "data": {
      "text/plain": [
       "-26.072041049218555"
      ]
     },
     "execution_count": 53,
     "metadata": {},
     "output_type": "execute_result"
    }
   ],
   "source": [
    "class LocallyPeriodic(BaseKernel):\n",
    "    def __init__(self, lengthscale_sqe=0.5, variance=1.0, lengthscale_p =0.5, period=1.0):\n",
    "        self.lengthscale_sqe = lengthscale_sqe\n",
    "        self.variance = variance\n",
    "        self.lengthscale_p = lengthscale_p\n",
    "        self.period = period\n",
    "        self.param_dim = 4\n",
    "        super().__init__()\n",
    "    \n",
    "    def make_gram(self, x_1, x_2):\n",
    "        self.gram = locally_periodic(x_1, x_2, self.lengthscale_sqe, self.variance, self.lengthscale_p, self.period)\n",
    "        return self.gram \n",
    "    \n",
    "    def invert_gram(self):\n",
    "        self.inverse_gram = chol_inverse(self.gram)\n",
    "        return self.inverse_gram\n",
    "    \n",
    "    def constrain_params(self, unconstrained_params):\n",
    "        if unconstrained_params.shape[0] != self.param_dim:\n",
    "            raise AssertionError('Parameter array not the same size as kernel parameter dimension')\n",
    "        self.constrained_params = np.exp(unconstrained_params)\n",
    "        return self.constrained_params\n",
    "    \n",
    "    def prior_log_pdf(self, d):\n",
    "        self.prior = gamma.logpdf(self.constrained_params[0], a = 1, scale = np.sqrt(d))\n",
    "        self.prior += gamma.logpdf(self.constrained_params[1], a = 1.2, scale = 1/0.2)\n",
    "        self.prior += gamma.logpdf(self.constrained_params[2], a = 0.00001, scale = 1/0.00001) # uninformative prior\n",
    "        self.prior += gamma.logpdf(self.constrained_params[3], a = 0.00001, scale = 1/0.00001) # uninformative prior\n",
    "        return self.prior\n",
    "\n",
    "kernel = LocallyPeriodic(lengthscale_sqe = 1, variance = 1, lengthscale_p = 0.5, period = 10)\n",
    "kernel.make_gram(x_1, x_1)\n",
    "kernel.constrain_params(np.zeros(4))\n",
    "kernel.prior_log_pdf(1)"
   ]
  },
  {
   "cell_type": "code",
   "execution_count": 54,
   "id": "8049a484-c627-4bb3-98ef-44f572757087",
   "metadata": {},
   "outputs": [
    {
     "data": {
      "text/plain": [
       "array([[4.97739562, 5.13875461, 3.02925142, ..., 4.36382077, 1.43884431,\n",
       "        1.98318415],\n",
       "       [2.85665559, 2.40497004, 0.91674754, ..., 1.87625989, 1.70483555,\n",
       "        1.19962963],\n",
       "       [2.79226466, 2.7853959 , 1.64239385, ..., 2.36851027, 1.09915747,\n",
       "        1.245824  ],\n",
       "       ...,\n",
       "       [1.77170676, 1.50588654, 0.68725745, ..., 1.21561043, 1.17939984,\n",
       "        0.87420217],\n",
       "       [3.83972814, 3.67497894, 1.90070337, ..., 3.03275252, 1.57788153,\n",
       "        1.5632642 ],\n",
       "       [5.53792717, 5.72975428, 3.36338987, ..., 4.86011723, 1.54278174,\n",
       "        2.17041662]])"
      ]
     },
     "execution_count": 54,
     "metadata": {},
     "output_type": "execute_result"
    }
   ],
   "source": [
    "def linear(x_1, x_2, constant_variance=0.5, variance=1.0, offset=1.0):\n",
    "    \"\"\"\n",
    "    A linear kernel is a non-stationary kernel, which when used with a GP, is equivalent to\n",
    "    Bayesian linear regression.\n",
    "    \n",
    "    :param x_1, N x d matrix\n",
    "    :param x_2, M x d matrix\n",
    "\n",
    "    :param constant_variance, float\n",
    "    :param variance, float\n",
    "    :param offset, float\n",
    "\n",
    "    :returns K, N x M matrix, K_{ij} = k(x_i, x_j; constant_variance, variance, offset)\n",
    "    \"\"\"\n",
    "    \n",
    "    return constant_variance + variance*np.dot(x_1 - offset, x_2.T - offset)\n",
    "\n",
    "linear(x_1, x_2)"
   ]
  },
  {
   "cell_type": "code",
   "execution_count": 55,
   "id": "c2b11a67-20d6-44c1-86e5-e335d3805c92",
   "metadata": {},
   "outputs": [
    {
     "data": {
      "text/plain": [
       "-5.010841343039882"
      ]
     },
     "execution_count": 55,
     "metadata": {},
     "output_type": "execute_result"
    }
   ],
   "source": [
    "class Linear(BaseKernel):\n",
    "    def __init__(self, constant_variance=0.5, variance=1.0, offset=1.0):\n",
    "        self.constant_variance = constant_variance\n",
    "        self.variance = variance\n",
    "        self.offset = offset\n",
    "        self.param_dim = 3\n",
    "        super().__init__()\n",
    "    \n",
    "    def make_gram(self, x_1, x_2):\n",
    "        self.gram = linear(x_1, x_2, self.constant_variance, self.variance, self.offset)\n",
    "        return self.gram \n",
    "    \n",
    "    def invert_gram(self):\n",
    "        self.inverse_gram = chol_inverse(self.gram)\n",
    "        return self.inverse_gram\n",
    "    \n",
    "    def constrain_params(self, unconstrained_params):\n",
    "        if unconstrained_params.shape[0] != self.param_dim:\n",
    "            raise AssertionError('Parameter array not the same size as kernel parameter dimension')\n",
    "        self.constrained_params = np.concatenate((np.exp(unconstrained_params[0:2]), unconstrained_params[2].reshape(-1)))\n",
    "        return self.constrained_params\n",
    "    \n",
    "    def prior_log_pdf(self, d):\n",
    "        self.prior = gamma.logpdf(self.constrained_params[1], a = 1.2, scale = 1/0.2)\n",
    "        self.prior += gamma.logpdf(self.constrained_params[1], a = 1.2, scale = 1/0.2)\n",
    "        self.prior += norm.logpdf(self.constrained_params[2]) # Standard Gaussian prior for offset\n",
    "        return self.prior\n",
    "\n",
    "kernel = Linear(constant_variance=0.5, variance=1.0, offset=1.0)\n",
    "kernel.make_gram(x_1, x_1)\n",
    "kernel.constrain_params(np.zeros(3))\n",
    "kernel.prior_log_pdf(1)"
   ]
  },
  {
   "cell_type": "code",
   "execution_count": 56,
   "id": "a0cba21b-d50d-4522-92b6-f1465abec6d8",
   "metadata": {},
   "outputs": [],
   "source": [
    "class Additive(BaseKernel):\n",
    "    def __init__(self, kernels):\n",
    "        self.kernels = kernels\n",
    "        self.param_dim = sum(k.param_dim for k in self.kernels)\n",
    "        super().__init__()\n",
    "    \n",
    "    def make_gram(self, x_1, x_2):\n",
    "        grams = [k.make_gram(x_1, x_2) for k in self.kernels]\n",
    "        self.gram = sum(grams)\n",
    "        return self.gram\n",
    "        \n",
    "    def invert_gram(self):\n",
    "        self.inverse_gram = chol_inverse(self.gram)\n",
    "        return self.inverse_gram\n",
    "\n",
    "    def constrain_params(self, unconstrained_params):\n",
    "        if unconstrained_params.shape[0] != self.param_dim:\n",
    "            raise AssertionError('Parameter array not the same size as kernel parameter dimension')\n",
    "            \n",
    "        self.constrained_params = np.zeros(0)\n",
    "        dim_count = 0\n",
    "        for k in self.kernels:\n",
    "            self.constrained_params = np.concatenate((self.constrained_params, k.constrain_params(unconstrained_params[dim_count:(dim_count + k.param_dim)])))\n",
    "            dim_count += k.param_dim\n",
    "        return self.constrained_params\n",
    "    \n",
    "    def prior_log_pdf(self, d):\n",
    "        self.prior = 0\n",
    "        for k in self.kernels:\n",
    "            self.prior += k.prior_log_pdf(d)\n",
    "        return self.prior\n",
    "\n",
    "k1 = SquaredExponential(lengthscale = 1, variance = 1)\n",
    "k2 = Periodic(lengthscale = 1, variance = 1, period = 1)\n",
    "k3 = Linear(constant_variance = 0.5, variance = 1, offset = 1)\n",
    "\n",
    "kadd = Additive([k1, k2, k3])\n",
    "\n",
    "kadd.make_gram(x_1, x_1)\n",
    "kadd.constrain_params(np.array([1, 2, 3, 4, 5, 6, 7, 8]))\n",
    "kadd.prior_log_pdf(1)\n"
   ]
  },
  {
   "cell_type": "code",
   "execution_count": 65,
   "id": "aa138d93-f9ca-4669-a03f-a3c6181b1f4d",
   "metadata": {},
   "outputs": [
    {
     "data": {
      "text/plain": [
       "array([   2.71828183,    7.3890561 ,   20.08553692,   54.59815003,\n",
       "        148.4131591 ,  403.42879349, 1096.63315843,    8.        ])"
      ]
     },
     "execution_count": 65,
     "metadata": {},
     "output_type": "execute_result"
    }
   ],
   "source": [
    "class Multiplicative(BaseKernel):\n",
    "    def __init__(self, kernels):\n",
    "        self.kernels = kernels\n",
    "        self.param_dim = sum(k.param_dim for k in self.kernels)\n",
    "        super().__init__()\n",
    "    \n",
    "    def make_gram(self, x_1, x_2):\n",
    "        grams = [k.make_gram(x_1, x_2) for k in self.kernels]\n",
    "        self.gram = reduce(np.multiply, grams)\n",
    "        return self.gram\n",
    "        \n",
    "    def invert_gram(self):\n",
    "        self.inverse_gram = chol_inverse(self.gram)\n",
    "        return self.inverse_gram\n",
    "    \n",
    "    def constrain_params(self, unconstrained_params):\n",
    "        if unconstrained_params.shape[0] != self.param_dim:\n",
    "            raise AssertionError('Parameter array not the same size as kernel parameter dimension')\n",
    "            \n",
    "        self.constrained_params = np.zeros(0)\n",
    "        dim_count = 0\n",
    "        for k in self.kernels:\n",
    "            self.constrained_params = np.concatenate((self.constrained_params, k.constrain_params(unconstrained_params[dim_count:(dim_count + k.param_dim)])))\n",
    "            dim_count += k.param_dim\n",
    "        return self.constrained_params\n",
    "    \n",
    "    def prior_log_pdf(self, d):\n",
    "        self.prior = 0\n",
    "        for k in self.kernels:\n",
    "            self.prior += k.prior_log_pdf(d)\n",
    "        return self.prior\n",
    "    \n",
    "k1 = SquaredExponential(lengthscale = 1, variance = 1)\n",
    "k2 = Periodic(lengthscale = 1, variance = 1, period = 10)\n",
    "k3 = Linear(constant_variance = 0.5, variance = 1, offset = 1)\n",
    "\n",
    "kmul = Multiplicative([k1, k2, k3])\n",
    "\n",
    "kmul.make_gram(x_1, x_1)\n",
    "kmul.constrain_params(np.array([1, 2, 3, 4, 5, 6, 7, 8]))"
   ]
  },
  {
   "cell_type": "code",
   "execution_count": null,
   "id": "e87960ae-366a-4f64-bf6d-77ed459eed93",
   "metadata": {},
   "outputs": [
    {
     "data": {
      "text/plain": [
       "(50, 25)"
      ]
     },
     "execution_count": 8,
     "metadata": {},
     "output_type": "execute_result"
    }
   ],
   "source": [
    "def add(x_1, x_2, kernels):\n",
    "    \"\"\"\n",
    "    Add together an arbitrary number of kernels.\n",
    "    \n",
    "    :param x_1, N x d matrix\n",
    "    :param x_2, M x d matrix\n",
    "    \n",
    "    :param kernels, tuple, tuple consisting of kernel functions, and corresponding parameter dictionaries\n",
    "    \n",
    "    :returns K, N x M matrix, sum of kernel matrices \n",
    "    \"\"\"\n",
    "    \n",
    "    return sum([\n",
    "        kernel(x_1, x_2, **kernel_kwargs)\n",
    "        for kernel, kernel_kwargs in kernels\n",
    "    ])\n",
    "\n",
    "kernels = (\n",
    "    (locally_periodic, {'lengthscale':0.5, 'variance':1.0, 'period':1.0}),\n",
    "    (periodic, {'lengthscale':0.5, 'variance':1.0, 'period':0.1}),\n",
    ")\n",
    "\n",
    "add(x_1, x_2, kernels).shape"
   ]
  },
  {
   "cell_type": "code",
   "execution_count": null,
   "id": "b542d7f8-d79b-4837-bdc2-9de745e57d2d",
   "metadata": {},
   "outputs": [
    {
     "data": {
      "text/plain": [
       "(50, 25)"
      ]
     },
     "execution_count": 24,
     "metadata": {},
     "output_type": "execute_result"
    }
   ],
   "source": [
    "def multiply(x_1, x_2, kernels):\n",
    "    \"\"\"\n",
    "    Multiply together an arbitrary number of kernels.\n",
    "    \n",
    "    :param x_1, N x d matrix\n",
    "    :param x_2, M x d matrix\n",
    "    \n",
    "    :param kernels, tuple, kernel functions and corresponding parameter dictionaries\n",
    "    \n",
    "    :returns K, N x M matrix, sum of kernel matrices \n",
    "    \"\"\"\n",
    "    \n",
    "    grams = [\n",
    "    kernel(x_1, x_2, **kernel_kwargs) \n",
    "    for kernel, kernel_kwargs in kernels\n",
    "    ]\n",
    "    \n",
    "    return reduce(np.multiply, grams)\n",
    "\n",
    "kernels = (\n",
    "    (linear, {'constant_variance':0, 'variance':1.0, 'offset':0}),\n",
    "    (periodic, {'lengthscale':0.5, 'variance':1.0, 'period':0.1}),\n",
    "    (locally_periodic, {'lengthscale':0.5, 'variance':1.0, 'period':10})\n",
    "    \n",
    ")\n",
    "\n",
    "\n",
    "multiply(x_1, x_2, kernels).shape"
   ]
  }
 ],
 "metadata": {
  "kernelspec": {
   "display_name": "Python 3 (ipykernel)",
   "language": "python",
   "name": "python3"
  },
  "language_info": {
   "codemirror_mode": {
    "name": "ipython",
    "version": 3
   },
   "file_extension": ".py",
   "mimetype": "text/x-python",
   "name": "python",
   "nbconvert_exporter": "python",
   "pygments_lexer": "ipython3",
   "version": "3.9.12"
  }
 },
 "nbformat": 4,
 "nbformat_minor": 5
}
