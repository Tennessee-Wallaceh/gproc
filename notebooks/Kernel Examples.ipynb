{
 "cells": [
  {
   "cell_type": "code",
   "execution_count": 1,
   "id": "0d15887e-f6a6-4b29-a792-4821b1aabb34",
   "metadata": {},
   "outputs": [],
   "source": [
    "import numpy as np\n",
    "from scipy.spatial.distance import cdist\n",
    "from functools import reduce\n",
    "\n",
    "from gproc.generative import sample_at_x\n",
    "import matplotlib.pyplot as plt"
   ]
  },
  {
   "cell_type": "code",
   "execution_count": 2,
   "id": "e375d042-ae58-4ffd-b534-b3066883d8ed",
   "metadata": {},
   "outputs": [],
   "source": [
    "# Data sizes and dimension\n",
    "D = 2\n",
    "N = 50\n",
    "M = 25\n",
    "\n",
    "x_1 = np.random.uniform(-1, 1, N * D).reshape(-1, D) # Reshape to N x D matrix\n",
    "x_2 = np.random.uniform(-1, 1, M * D).reshape(-1, D) # Reshape to N x D matrix"
   ]
  },
  {
   "cell_type": "code",
   "execution_count": 3,
   "id": "3c258896-acc1-43a0-b1e1-3e8698f7a2d9",
   "metadata": {},
   "outputs": [
    {
     "data": {
      "text/plain": [
       "(50, 25)"
      ]
     },
     "execution_count": 3,
     "metadata": {},
     "output_type": "execute_result"
    }
   ],
   "source": [
    "def squared_exponential(x_1, x_2, lengthscale=0.5, variance=1.0):\n",
    "    \"\"\"\n",
    "    Also known as RBF.\n",
    "    \n",
    "    :param x_1, N x d matrix\n",
    "    :param x_2, M x d matrix\n",
    "\n",
    "    :param lengthscale, float\n",
    "    :param variance, float\n",
    "\n",
    "    :returns K, N x M matrix, K_{ij} = k(x_i, x_j; lengthscale, variance)\n",
    "    \"\"\"\n",
    "    sq_diffs = cdist(x_1, x_2, metric = 'sqeuclidean')\n",
    "    return variance * np.exp(-0.5 * sq_diffs / lengthscale)\n",
    "\n",
    "squared_exponential(x_1, x_2).shape"
   ]
  },
  {
   "cell_type": "code",
   "execution_count": 4,
   "id": "ecc5a3eb-2f49-4bac-8e1d-e3fc02a7415c",
   "metadata": {},
   "outputs": [
    {
     "data": {
      "text/plain": [
       "(50, 25)"
      ]
     },
     "execution_count": 4,
     "metadata": {},
     "output_type": "execute_result"
    }
   ],
   "source": [
    "def rational_quadratic(x_1, x_2, lengthscale=0.5, variance=1.0, weighting=1.0):\n",
    "    \"\"\"\n",
    "    Rational Quadratic Kernel, equivalent to adding together many Squared Exponential kernels with different \n",
    "    lengthscales. Weight parameter determine relative weighting of large and small scale variations. When\n",
    "    the weighting goes to infinity, RQ = SE.\n",
    "    \n",
    "    :param x_1, N x d matrix\n",
    "    :param x_2, M x d matrix\n",
    "\n",
    "    :param lengthscale, float\n",
    "    :param variance, float\n",
    "    :param weighting, float\n",
    "\n",
    "    :returns K, N x M matrix, K_{ij} = k(x_i, x_j; lengthscale, variance, weighting)\n",
    "    \"\"\"\n",
    "    sq_diffs = cdist(x_1, x_2, metric = 'sqeuclidean')\n",
    "    return variance * ( (1 + sq_diffs / 2*lengthscale * weighting) ** (-weighting) )\n",
    "\n",
    "rational_quadratic(x_1, x_2).shape"
   ]
  },
  {
   "cell_type": "code",
   "execution_count": 5,
   "id": "cfcac19d-85b4-4ee7-8938-8851b3218bbd",
   "metadata": {},
   "outputs": [
    {
     "data": {
      "text/plain": [
       "(50, 25)"
      ]
     },
     "execution_count": 5,
     "metadata": {},
     "output_type": "execute_result"
    }
   ],
   "source": [
    "def periodic(x_1, x_2, lengthscale=0.5, variance=1.0, period=1.0):\n",
    "    \"\"\"\n",
    "    The periodic kernel allows one to model functions which repeat themselves exactly.\n",
    "    \n",
    "    :param x_1, N x d matrix\n",
    "    :param x_2, M x d matrix\n",
    "\n",
    "    :param lengthscale, float\n",
    "    :param variance, float\n",
    "    :param period, float\n",
    "\n",
    "    :returns K, N x M matrix, K_{ij} = k(x_i, x_j; lengthscale, variance, period)\n",
    "    \"\"\"\n",
    "    diffs = cdist(x_1, x_2, metric = 'euclidean')\n",
    "    return variance * np.exp(-0.5 * np.sin(np.pi * diffs / period) / lengthscale)\n",
    "\n",
    "periodic(x_1, x_2).shape"
   ]
  },
  {
   "cell_type": "code",
   "execution_count": 6,
   "id": "a3c04e9e-e19c-478c-adab-3b22b4ab56ab",
   "metadata": {},
   "outputs": [
    {
     "data": {
      "text/plain": [
       "(50, 25)"
      ]
     },
     "execution_count": 6,
     "metadata": {},
     "output_type": "execute_result"
    }
   ],
   "source": [
    "def locally_periodic(x_1, x_2, lengthscale=0.5, variance=1.0, period=1.0):\n",
    "    \"\"\"\n",
    "    A squared exponential kernel multiplied by a periodic kernel. Allows one to model periodic functions\n",
    "    which can vary slowly over time.\n",
    "    \n",
    "    :param x_1, N x d matrix\n",
    "    :param x_2, M x d matrix\n",
    "\n",
    "    :param lengthscale, float\n",
    "    :param variance, float\n",
    "    :param period, float\n",
    "\n",
    "    :returns K, N x M matrix, K_{ij} = k(x_i, x_j; lengthscale, variance, period)\n",
    "    \"\"\"\n",
    "    \n",
    "    return np.multiply(squared_exponential(x_1, x_2, lengthscale, variance), periodic(x_1, x_2, lengthscale, variance, period))\n",
    "\n",
    "locally_periodic(x_1, x_2).shape"
   ]
  },
  {
   "cell_type": "code",
   "execution_count": 7,
   "id": "8049a484-c627-4bb3-98ef-44f572757087",
   "metadata": {},
   "outputs": [
    {
     "data": {
      "text/plain": [
       "(50, 25)"
      ]
     },
     "execution_count": 7,
     "metadata": {},
     "output_type": "execute_result"
    }
   ],
   "source": [
    "def linear(x_1, x_2, constant_variance=0.5, variance=1.0, offset=1.0):\n",
    "    \"\"\"\n",
    "    A linear kernel is a non-stationary kernel, which when used with a GP, is equivalent to\n",
    "    Bayesian linear regression.\n",
    "    \n",
    "    :param x_1, N x d matrix\n",
    "    :param x_2, M x d matrix\n",
    "\n",
    "    :param constant_variance, float\n",
    "    :param variance, float\n",
    "    :param offset, float\n",
    "\n",
    "    :returns K, N x M matrix, K_{ij} = k(x_i, x_j; constant_variance, variance, offset)\n",
    "    \"\"\"\n",
    "    \n",
    "    return constant_variance + variance*np.dot(x_1 - offset, x_2.T - offset)\n",
    "\n",
    "linear(x_1, x_2).shape"
   ]
  },
  {
   "cell_type": "code",
   "execution_count": 8,
   "id": "e87960ae-366a-4f64-bf6d-77ed459eed93",
   "metadata": {},
   "outputs": [
    {
     "data": {
      "text/plain": [
       "(50, 25)"
      ]
     },
     "execution_count": 8,
     "metadata": {},
     "output_type": "execute_result"
    }
   ],
   "source": [
    "def add(x_1, x_2, kernels):\n",
    "    \"\"\"\n",
    "    Add together an arbitrary number of kernels.\n",
    "    \n",
    "    :param x_1, N x d matrix\n",
    "    :param x_2, M x d matrix\n",
    "    \n",
    "    :param kernels, tuple, tuple consisting of kernel functions, and corresponding parameter dictionaries\n",
    "    \n",
    "    :returns K, N x M matrix, sum of kernel matrices \n",
    "    \"\"\"\n",
    "    \n",
    "    return sum([\n",
    "        kernel(x_1, x_2, **kernel_kwargs)\n",
    "        for kernel, kernel_kwargs in kernels\n",
    "    ])\n",
    "\n",
    "kernels = (\n",
    "    (locally_periodic, {'lengthscale':0.5, 'variance':1.0, 'period':1.0}),\n",
    "    (periodic, {'lengthscale':0.5, 'variance':1.0, 'period':0.1}),\n",
    ")\n",
    "\n",
    "add(x_1, x_2, kernels).shape"
   ]
  },
  {
   "cell_type": "code",
   "execution_count": 24,
   "id": "b542d7f8-d79b-4837-bdc2-9de745e57d2d",
   "metadata": {},
   "outputs": [
    {
     "data": {
      "text/plain": [
       "(50, 25)"
      ]
     },
     "execution_count": 24,
     "metadata": {},
     "output_type": "execute_result"
    }
   ],
   "source": [
    "def multiply(x_1, x_2, kernels):\n",
    "    \"\"\"\n",
    "    Multiply together an arbitrary number of kernels.\n",
    "    \n",
    "    :param x_1, N x d matrix\n",
    "    :param x_2, M x d matrix\n",
    "    \n",
    "    :param kernels, tuple, kernel functions and corresponding parameter dictionaries\n",
    "    \n",
    "    :returns K, N x M matrix, sum of kernel matrices \n",
    "    \"\"\"\n",
    "    \n",
    "    grams = [kernel(x_1, x_2, **kernel_kwargs)\n",
    "             for kernel, kernel_kwargs in kernels]\n",
    "    \n",
    "    return reduce(np.multiply, grams)\n",
    "\n",
    "kernels = (\n",
    "    (linear, {'constant_variance':0, 'variance':1.0, 'offset':0}),\n",
    "    (periodic, {'lengthscale':0.5, 'variance':1.0, 'period':0.1}),\n",
    "    (locally_periodic, {'lengthscale':0.5, 'variance':1.0, 'period':10})\n",
    "    \n",
    ")\n",
    "\n",
    "\n",
    "multiply(x_1, x_2, kernels).shape"
   ]
  },
  {
   "cell_type": "code",
   "execution_count": 22,
   "id": "c870a502-c398-46b2-9d48-fd89f01d1e78",
   "metadata": {},
   "outputs": [
    {
     "name": "stderr",
     "output_type": "stream",
     "text": [
      "/home/tt21864/Documents/Bristol/Semester 2/Group Project/gproc/src/gproc/generative.py:15: RuntimeWarning: covariance is not positive-semidefinite.\n",
      "  f = np.random.multivariate_normal(np.zeros(N), gram_matrix)\n"
     ]
    }
   ],
   "source": [
    "x = np.random.uniform(-1, 1, N).reshape(-1, 1) # Reshape to N x 1 matrix\n",
    "y, prob_y, f = sample_at_x(x, kernel_fcn = lambda x_1, x_2: multiply(x_1, x_2, kernels))"
   ]
  },
  {
   "cell_type": "code",
   "execution_count": 23,
   "id": "0f85ee62-9ee2-4aea-8bf5-30bc051fe7d3",
   "metadata": {},
   "outputs": [
    {
     "data": {
      "text/plain": [
       "[<matplotlib.lines.Line2D at 0x7f793d981100>]"
      ]
     },
     "execution_count": 23,
     "metadata": {},
     "output_type": "execute_result"
    },
    {
     "data": {
      "image/png": "[encoded data removed]",
      "text/plain": [
       "<Figure size 432x288 with 1 Axes>"
      ]
     },
     "metadata": {
      "needs_background": "light"
     },
     "output_type": "display_data"
    }
   ],
   "source": [
    "plt.plot(x[np.argsort(x.reshape(-1))], f[np.argsort(x.reshape(-1))])"
   ]
  },
  {
   "cell_type": "code",
   "execution_count": null,
   "id": "afc9aaef-cb49-41c2-9067-721215a8e0e8",
   "metadata": {},
   "outputs": [],
   "source": []
  }
 ],
 "metadata": {
  "kernelspec": {
   "display_name": "Python 3 (ipykernel)",
   "language": "python",
   "name": "python3"
  },
  "language_info": {
   "codemirror_mode": {
    "name": "ipython",
    "version": 3
   },
   "file_extension": ".py",
   "mimetype": "text/x-python",
   "name": "python",
   "nbconvert_exporter": "python",
   "pygments_lexer": "ipython3",
   "version": "3.9.12"
  }
 },
 "nbformat": 4,
 "nbformat_minor": 5
}
