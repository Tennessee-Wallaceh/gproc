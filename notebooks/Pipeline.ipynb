{
 "cells": [
  {
   "cell_type": "code",
   "execution_count": 1,
   "id": "e776d178-5b82-4d7e-b97d-823e1cae6724",
   "metadata": {},
   "outputs": [],
   "source": [
    "import numpy as np\n",
    "import matplotlib.pyplot as plt\n",
    "from scipy.stats import norm\n",
    "\n",
    "from gproc.classifiers import simple_laplace, bayesian_logreg, gridsearch_laplace, full_bayesian_pseudo_marginal\n",
    "from gproc.run_pipeline import run_pipeline\n",
    "from gproc.generative import sample_at_x\n",
    "from gproc.kernels import squared_exponential, periodic, SquaredExponential\n",
    "from gproc.metrics import inspect_metrics, predictive_metrics, max_threshold, abstention_metrics"
   ]
  },
  {
   "cell_type": "code",
   "execution_count": 2,
   "id": "7931b715-680e-462f-bbdc-c9eb19f65fdb",
   "metadata": {},
   "outputs": [],
   "source": [
    "N_train = 100\n",
    "N_test = 50\n",
    "\n",
    "x = np.random.uniform(-1, 1, N_train + N_test).reshape(-1, 1) # Reshape to N x 1 matrix\n",
    "y, prob_y, f = sample_at_x(x, kernel_params={'variance': 2., 'lengthscale': 0.01}, kernel_fcn=squared_exponential)\n",
    "\n",
    "# Static F\n",
    "# f = np.ones_like(x)\n",
    "# f[x < 0.] = -1\n",
    "# prob_y = norm.cdf(f)\n",
    "# y = np.random.binomial(1, p=prob_y) # 1 sample for each N of elements of prob_y\n",
    "# y[y == 0] = -1\n",
    "# y = y.reshape(-1)\n",
    "\n",
    "train_ix, test_ix = np.split(np.random.permutation(np.arange(N_train + N_test)), [N_train])\n",
    "train_x = x[train_ix,:]\n",
    "train_y = y[train_ix]\n",
    "test_x = x[test_ix,:]\n",
    "test_y = y[test_ix]"
   ]
  },
  {
   "cell_type": "code",
   "execution_count": 3,
   "id": "3c9263be-1009-4a9c-91ff-c5f5954a3c17",
   "metadata": {},
   "outputs": [
    {
     "name": "stderr",
     "output_type": "stream",
     "text": [
      "/home/th17628/projects/gproc/src/gproc/laplace.py:123: RuntimeWarning: covariance is not positive-semidefinite.\n",
      "  predictive_y = np.mean(norm.cdf(np.random.multivariate_normal(predictive_mean, predictive_cov, pred_samples)), axis=0)\n",
      "\u001b[32mBuilding:\u001b[0m found in cache, done.\n",
      "\u001b[36mSampling:\u001b[0m   0%\n",
      "\u001b[1A\u001b[0J\u001b[36mSampling:\u001b[0m 100% (3000/3000)\n",
      "\u001b[1A\u001b[0J\u001b[32mSampling:\u001b[0m 100% (3000/3000), done.\n",
      "\u001b[36mMessages received during sampling:\u001b[0m\n",
      "  Gradient evaluation took 2.5e-05 seconds\n",
      "  1000 transitions using 10 leapfrog steps per transition would take 0.25 seconds.\n",
      "  Adjust your expectations accordingly!\n"
     ]
    },
    {
     "name": "stdout",
     "output_type": "stream",
     "text": [
      "Sampling hyperparameters\n"
     ]
    },
    {
     "name": "stderr",
     "output_type": "stream",
     "text": [
      "100%|█████████████████████████████████████████| 5000/5000 [00:49<00:00, 100.38it/s]\n"
     ]
    },
    {
     "name": "stdout",
     "output_type": "stream",
     "text": [
      "Burning in proposal latent function for ELL-SS algorithm\n",
      "Sampling latent functions\n"
     ]
    },
    {
     "name": "stderr",
     "output_type": "stream",
     "text": [
      "100%|█████████████████████████████████████████| 4000/4000 [00:09<00:00, 420.13it/s]\n",
      "100%|██████████████████████████████████████████████| 50/50 [00:06<00:00,  7.80it/s]\n"
     ]
    }
   ],
   "source": [
    "classifiers = {\n",
    "    'fixed_sq_exp': lambda train_x, train_y: simple_laplace(train_x, train_y, squared_exponential),\n",
    "    'grid_sq_exp': lambda train_x, train_y: gridsearch_laplace(\n",
    "        train_x, train_y, \n",
    "        squared_exponential, \n",
    "        (\n",
    "            np.linspace(1e-3, 2, 10), # Lengthscale\n",
    "            np.linspace(1e-3, 4, 10), # Variance\n",
    "        )\n",
    "    ),\n",
    "    'blr': bayesian_logreg,\n",
    "    'full_bayesian': lambda train_x, train_y: full_bayesian_pseudo_marginal(train_x, train_y, SquaredExponential),\n",
    "}\n",
    "\n",
    "pred_probs = {\n",
    "    label: classifier(train_x, train_y)[0](test_x)\n",
    "    for label, classifier in classifiers.items()\n",
    "}"
   ]
  },
  {
   "cell_type": "code",
   "execution_count": null,
   "id": "a793ffa1-bd28-4717-9c03-655f3403a124",
   "metadata": {},
   "outputs": [
    {
     "name": "stderr",
     "output_type": "stream",
     "text": [
      "/home/th17628/projects/gproc/src/gproc/laplace.py:123: RuntimeWarning: covariance is not positive-semidefinite.\n",
      "  predictive_y = np.mean(norm.cdf(np.random.multivariate_normal(predictive_mean, predictive_cov, pred_samples)), axis=0)\n",
      "\u001b[32mBuilding:\u001b[0m found in cache, done.\n",
      "\u001b[36mSampling:\u001b[0m   0%\n",
      "\u001b[1A\u001b[0J\u001b[36mSampling:\u001b[0m 100% (3000/3000)\n",
      "\u001b[1A\u001b[0J\u001b[32mSampling:\u001b[0m 100% (3000/3000), done.\n",
      "\u001b[36mMessages received during sampling:\u001b[0m\n",
      "  Gradient evaluation took 8e-06 seconds\n",
      "  1000 transitions using 10 leapfrog steps per transition would take 0.08 seconds.\n",
      "  Adjust your expectations accordingly!\n"
     ]
    },
    {
     "name": "stdout",
     "output_type": "stream",
     "text": [
      "Sampling hyperparameters\n"
     ]
    },
    {
     "name": "stderr",
     "output_type": "stream",
     "text": [
      "100%|██████████████████████████████████████████| 5000/5000 [00:58<00:00, 85.93it/s]\n"
     ]
    },
    {
     "name": "stdout",
     "output_type": "stream",
     "text": [
      "Burning in proposal latent function for ELL-SS algorithm\n",
      "Sampling latent functions\n"
     ]
    },
    {
     "name": "stderr",
     "output_type": "stream",
     "text": [
      " 87%|███████████████████████████████████▊     | 3496/4000 [00:07<00:01, 437.61it/s]"
     ]
    }
   ],
   "source": [
    "fig, axarr = plt.subplots(1, 2, figsize=(15, 5))\n",
    "for label, classifier in classifiers.items():\n",
    "    cap_metrics = run_pipeline(classifier, train_x, train_y, test_x, test_y)\n",
    "    inspect_metrics(axarr[0], axarr[1], cap_metrics, label=label)\n",
    "plt.show()"
   ]
  },
  {
   "cell_type": "code",
   "execution_count": null,
   "id": "752ec009-8c52-4edb-9749-1b83fa0fd67e",
   "metadata": {},
   "outputs": [],
   "source": [
    "sort_ix = np.argsort(x.reshape(-1))\n",
    "sorted_x = x.reshape(-1)[sort_ix]\n",
    "\n",
    "fig, axarr = plt.subplots(2, 2, figsize=(15, 7), gridspec_kw={'width_ratios': [3, 1]})\n",
    "\n",
    "axarr[0, 0].plot(sorted_x, f[sort_ix])\n",
    "axarr[0, 0].set_xlabel('x')\n",
    "axarr[0, 0].set_ylabel('f(x)')\n",
    "axarr[0, 0].set_title('Latent Function')\n",
    "\n",
    "f_domain = np.linspace(np.min(f), np.max(f), 50)\n",
    "\n",
    "axarr[0, 1].plot(norm.cdf(f_domain), f_domain)\n",
    "axarr[0, 1].set_ylabel('f')\n",
    "axarr[0, 1].set_xlabel('$\\sigma$(f)')\n",
    "\n",
    "axarr[1, 0].plot(sorted_x, prob_y[sort_ix], label='$\\sigma$(f) = p(y = 1 | f)')\n",
    "plot_y = y.copy()[sort_ix]\n",
    "plot_y[plot_y == -1] = 0\n",
    "axarr[1, 0].scatter(sorted_x[plot_y == 0], plot_y[plot_y == 0], label='- samples')\n",
    "axarr[1, 0].scatter(sorted_x[plot_y == 1], plot_y[plot_y == 1], label='+ samples')\n",
    "axarr[1, 0].legend()\n",
    "axarr[1, 0].set_ylabel('p(y = 1 | f)')\n",
    "\n",
    "axarr[1, 0].scatter(sorted_x[plot_y == 0], plot_y[plot_y == 0], label='- samples')\n",
    "\n",
    "axarr[1, 1].axis('off')\n",
    "\n",
    "test_sort_ix = np.argsort(test_x.reshape(-1))\n",
    "\n",
    "for label, prob_ests in pred_probs.items():\n",
    "    axarr[1, 0].plot(test_x[test_sort_ix], prob_ests[test_sort_ix], label=label, alpha=0.5)\n",
    "axarr[1, 0].legend()\n",
    "\n",
    "\n",
    "plt.show()"
   ]
  },
  {
   "cell_type": "code",
   "execution_count": null,
   "id": "aa9a9b1e-b20b-4ee9-8db6-8e8a994b0a00",
   "metadata": {},
   "outputs": [],
   "source": []
  }
 ],
 "metadata": {
  "kernelspec": {
   "display_name": "Python 3 (ipykernel)",
   "language": "python",
   "name": "python3"
  },
  "language_info": {
   "codemirror_mode": {
    "name": "ipython",
    "version": 3
   },
   "file_extension": ".py",
   "mimetype": "text/x-python",
   "name": "python",
   "nbconvert_exporter": "python",
   "pygments_lexer": "ipython3",
   "version": "3.9.12"
  }
 },
 "nbformat": 4,
 "nbformat_minor": 5
}
