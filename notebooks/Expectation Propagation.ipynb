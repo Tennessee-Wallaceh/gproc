{
 "cells": [
  {
   "cell_type": "code",
   "execution_count": 110,
   "id": "56c685ad-3027-4550-b030-879f6e9532fa",
   "metadata": {},
   "outputs": [],
   "source": [
    "from scipy.stats import norm\n",
    "from scipy.linalg import cho_factor, cho_solve, cholesky, sqrtm, det\n",
    "from scipy.linalg import norm as la_norm\n",
    "import numpy as np\n",
    "\n",
    "from gproc.generative import sample_at_x\n",
    "from gproc.kernels import squared_exponential"
   ]
  },
  {
   "cell_type": "code",
   "execution_count": 84,
   "id": "82cdbbc5-45d3-4bf3-8290-93103c1a97bf",
   "metadata": {},
   "outputs": [],
   "source": [
    "N = 50\n",
    "\n",
    "# x = np.random.uniform(-1, 1, N).reshape(-1, 1) # Reshape to N x 1 matrix\n",
    "x = np.linspace(-1, 1, N).reshape(-1, 1) # Reshape to N x 1 matrix\n",
    "y, prob_y, f = sample_at_x(x, kernel_params={'lengthscale': 0.1, 'variance': 1.4})\n",
    "\n",
    "model_lengthscale = 0.1\n",
    "gram = squared_exponential(x, x, lengthscale = model_lengthscale)"
   ]
  },
  {
   "cell_type": "code",
   "execution_count": 85,
   "id": "ca065bc9-26a3-4364-9bcc-8ace7553d74e",
   "metadata": {},
   "outputs": [],
   "source": [
    "JITTER = 1e-5 "
   ]
  },
  {
   "cell_type": "code",
   "execution_count": 154,
   "id": "055d6dae-1fa5-4875-9955-71ff1f5aa51f",
   "metadata": {},
   "outputs": [],
   "source": [
    "def expectation_propagation_probit(observed_y, gram, max_iterations=100, tol=1e-5):\n",
    "    \"\"\"Algorithm 3.5\"\"\"\n",
    "    \n",
    "    # Data size and gram matrix relabelling\n",
    "    N = y.shape[0]\n",
    "    K = np.copy(gram)\n",
    "    \n",
    "    # Initialise natural site and cavity parameters\n",
    "    nu_site = np.zeros(N)\n",
    "    tau_site = np.zeros(N)\n",
    "    \n",
    "    nu_cav = np.zeros(N)\n",
    "    tau_cav = np.zeros(N)\n",
    "    \n",
    "    z = np.zeros(N)\n",
    "    \n",
    "    # Initialise approximate posterior parameters\n",
    "    Sig = np.copy(gram)\n",
    "    mu_proposed = np.zeros(N)\n",
    "    \n",
    "    for i in range(1, max_iterations):\n",
    "        mu = mu_proposed\n",
    "        \n",
    "        for i in range(N):\n",
    "            # Compute approximate cavity parameters\n",
    "            tau_cav[i] = Sig[i, i]**(-1) - tau_site[i]\n",
    "            nu_cav[i] = Sig[i, i]**(-1) * mu[i] - nu_site[i]\n",
    "\n",
    "            # Compute marginal moments\n",
    "            z[i] = ( y[i] * nu_cav[i] / tau_cav[i] ) / (1 + tau_cav[i]**(-1))\n",
    "            print(1 + tau_cav[i]**(-1))\n",
    "            mu_hat = ( nu_cav[i] / tau_cav[i] ) + ( y[i] * tau_cav[i]**(-1) * norm.pdf(z[i]) ) / ( norm.cdf(z[i]) * np.sqrt( 1 + tau_cav[i]**(-1) ) ) \n",
    "            var_hat = tau_cav[i]**(-1)  - ( ( tau_cav[i]**(-2) * norm.pdf(z[i]) ) / ( ( 1 + tau_cav[i]**(-1) ) * norm.cdf(z[i]) ) ) * ( z[i] + ( norm.pdf(z[i]) / norm.cdf(z[i]) ) ) \n",
    "\n",
    "            # Update site parameters\n",
    "            tau_delta = var_hat**(-1) - tau_cav[i] - tau_site[i]\n",
    "            tau_site[i] = tau_site[i] + tau_delta\n",
    "\n",
    "            nu_site[i] = var_hat**(-1) * mu_hat - nu_cav[i]\n",
    "\n",
    "            # Update approximate posterior parameters\n",
    "            Sig = Sig - ( ( tau_delta**(-1) + Sig[i, i] )**(-1) * Sig[:, i].dot(Sig[:, i]) )\n",
    "            mu = Sig.dot(nu_site)\n",
    "\n",
    "        # Recompute the approximate posterior parameters \n",
    "        S = np.diag(tau_site)\n",
    "        S_site_sqrt = np.diag(np.sqrt(tau_site))\n",
    "        L = cho_factor(JITTER * np.eye(N) + S_site_sqrt.dot(K).dot(S_site_sqrt), lower=True, check_finite=True)\n",
    "        V = cho_solve(L, S_site_sqrt.dot(K))\n",
    "        \n",
    "        Sig = K - V.T.dot(V)\n",
    "        mu_proposed = Sig.dot(nu_site)\n",
    "        \n",
    "        # Check convergence condition\n",
    "        if la_norm(mu_proposed, mu) < tol:\n",
    "            converged = True\n",
    "            break\n",
    "    \n",
    "    # Compute marginal likelihood log evidence\n",
    "    T = np.diag(tau_cav)\n",
    "    \n",
    "    one = np.sum( np.log( np.diagonal(L[0]) ) )\n",
    "    two = 0.5 * nu_site.dot( Sig - np.diag( (tau_cav + tau_site)**(-1) ) ).dot(nu_site)\n",
    "    three = np.sum( np.log( norm.cdf( y.dot( nu_cav / tau_cav ) / ( np.sqrt( 1 + tau_cav**(-1) ) ) ) ) )\n",
    "    four = 0.5 * np.log( 1 + tau_site.dot( tau_cav**(-1) ) )\n",
    "    five = 0.5 * (nu_cav / tau_cav).dot(T).dot( np.diag( (tau_cav + tau_site)**(-1) ) ).dot( S.dot(nu_cav / tau_cav) - 2 * nu_site)\n",
    "    \n",
    "    log_evidence = one + two + three + four + five\n",
    "    return nu_site, v_site, log_evidence, converged\n",
    "        \n",
    "    "
   ]
  },
  {
   "cell_type": "code",
   "execution_count": 155,
   "id": "53c72688-2e1d-4b6a-ae74-815c4719dd75",
   "metadata": {},
   "outputs": [
    {
     "name": "stdout",
     "output_type": "stream",
     "text": [
      "2.0\n",
      "-0.3447069853790401\n",
      "4.0932499042962\n",
      "nan\n",
      "nan\n",
      "nan\n",
      "nan\n",
      "nan\n",
      "nan\n",
      "nan\n",
      "nan\n",
      "nan\n",
      "nan\n",
      "nan\n",
      "nan\n",
      "nan\n",
      "nan\n",
      "nan\n",
      "nan\n",
      "nan\n",
      "nan\n",
      "nan\n",
      "nan\n",
      "nan\n",
      "nan\n",
      "nan\n",
      "nan\n",
      "nan\n",
      "nan\n",
      "nan\n",
      "nan\n",
      "nan\n",
      "nan\n",
      "nan\n",
      "nan\n",
      "nan\n",
      "nan\n",
      "nan\n",
      "nan\n",
      "nan\n",
      "nan\n",
      "nan\n",
      "nan\n",
      "nan\n",
      "nan\n",
      "nan\n",
      "nan\n",
      "nan\n",
      "nan\n",
      "nan\n"
     ]
    },
    {
     "name": "stderr",
     "output_type": "stream",
     "text": [
      "/tmp/ipykernel_16966/3091254423.py:32: RuntimeWarning: invalid value encountered in sqrt\n",
      "  mu_hat = ( nu_cav[i] / tau_cav[i] ) + ( y[i] * tau_cav[i]**(-1) * norm.pdf(z[i]) ) / ( norm.cdf(z[i]) * np.sqrt( 1 + tau_cav[i]**(-1) ) )\n",
      "/tmp/ipykernel_16966/3091254423.py:47: RuntimeWarning: invalid value encountered in sqrt\n",
      "  S_site_sqrt = np.diag(np.sqrt(tau_site))\n"
     ]
    },
    {
     "ename": "ValueError",
     "evalue": "array must not contain infs or NaNs",
     "output_type": "error",
     "traceback": [
      "\u001b[0;31m---------------------------------------------------------------------------\u001b[0m",
      "\u001b[0;31mValueError\u001b[0m                                Traceback (most recent call last)",
      "Input \u001b[0;32mIn [155]\u001b[0m, in \u001b[0;36m<cell line: 1>\u001b[0;34m()\u001b[0m\n\u001b[0;32m----> 1\u001b[0m \u001b[43mexpectation_propagation_probit\u001b[49m\u001b[43m(\u001b[49m\u001b[43my\u001b[49m\u001b[43m,\u001b[49m\u001b[43m \u001b[49m\u001b[43mgram\u001b[49m\u001b[43m)\u001b[49m\n",
      "Input \u001b[0;32mIn [154]\u001b[0m, in \u001b[0;36mexpectation_propagation_probit\u001b[0;34m(observed_y, gram, max_iterations, tol)\u001b[0m\n\u001b[1;32m     46\u001b[0m S \u001b[38;5;241m=\u001b[39m np\u001b[38;5;241m.\u001b[39mdiag(tau_site)\n\u001b[1;32m     47\u001b[0m S_site_sqrt \u001b[38;5;241m=\u001b[39m np\u001b[38;5;241m.\u001b[39mdiag(np\u001b[38;5;241m.\u001b[39msqrt(tau_site))\n\u001b[0;32m---> 48\u001b[0m L \u001b[38;5;241m=\u001b[39m \u001b[43mcho_factor\u001b[49m\u001b[43m(\u001b[49m\u001b[43mJITTER\u001b[49m\u001b[43m \u001b[49m\u001b[38;5;241;43m*\u001b[39;49m\u001b[43m \u001b[49m\u001b[43mnp\u001b[49m\u001b[38;5;241;43m.\u001b[39;49m\u001b[43meye\u001b[49m\u001b[43m(\u001b[49m\u001b[43mN\u001b[49m\u001b[43m)\u001b[49m\u001b[43m \u001b[49m\u001b[38;5;241;43m+\u001b[39;49m\u001b[43m \u001b[49m\u001b[43mS_site_sqrt\u001b[49m\u001b[38;5;241;43m.\u001b[39;49m\u001b[43mdot\u001b[49m\u001b[43m(\u001b[49m\u001b[43mK\u001b[49m\u001b[43m)\u001b[49m\u001b[38;5;241;43m.\u001b[39;49m\u001b[43mdot\u001b[49m\u001b[43m(\u001b[49m\u001b[43mS_site_sqrt\u001b[49m\u001b[43m)\u001b[49m\u001b[43m,\u001b[49m\u001b[43m \u001b[49m\u001b[43mlower\u001b[49m\u001b[38;5;241;43m=\u001b[39;49m\u001b[38;5;28;43;01mTrue\u001b[39;49;00m\u001b[43m,\u001b[49m\u001b[43m \u001b[49m\u001b[43mcheck_finite\u001b[49m\u001b[38;5;241;43m=\u001b[39;49m\u001b[38;5;28;43;01mTrue\u001b[39;49;00m\u001b[43m)\u001b[49m\n\u001b[1;32m     49\u001b[0m V \u001b[38;5;241m=\u001b[39m cho_solve(L, S_site_sqrt\u001b[38;5;241m.\u001b[39mdot(K))\n\u001b[1;32m     51\u001b[0m Sig \u001b[38;5;241m=\u001b[39m K \u001b[38;5;241m-\u001b[39m V\u001b[38;5;241m.\u001b[39mT\u001b[38;5;241m.\u001b[39mdot(V)\n",
      "File \u001b[0;32m~/miniconda3/envs/gproc/lib/python3.9/site-packages/scipy/linalg/decomp_cholesky.py:152\u001b[0m, in \u001b[0;36mcho_factor\u001b[0;34m(a, lower, overwrite_a, check_finite)\u001b[0m\n\u001b[1;32m     93\u001b[0m \u001b[38;5;28;01mdef\u001b[39;00m \u001b[38;5;21mcho_factor\u001b[39m(a, lower\u001b[38;5;241m=\u001b[39m\u001b[38;5;28;01mFalse\u001b[39;00m, overwrite_a\u001b[38;5;241m=\u001b[39m\u001b[38;5;28;01mFalse\u001b[39;00m, check_finite\u001b[38;5;241m=\u001b[39m\u001b[38;5;28;01mTrue\u001b[39;00m):\n\u001b[1;32m     94\u001b[0m     \u001b[38;5;124;03m\"\"\"\u001b[39;00m\n\u001b[1;32m     95\u001b[0m \u001b[38;5;124;03m    Compute the Cholesky decomposition of a matrix, to use in cho_solve\u001b[39;00m\n\u001b[1;32m     96\u001b[0m \n\u001b[0;32m   (...)\u001b[0m\n\u001b[1;32m    150\u001b[0m \n\u001b[1;32m    151\u001b[0m \u001b[38;5;124;03m    \"\"\"\u001b[39;00m\n\u001b[0;32m--> 152\u001b[0m     c, lower \u001b[38;5;241m=\u001b[39m \u001b[43m_cholesky\u001b[49m\u001b[43m(\u001b[49m\u001b[43ma\u001b[49m\u001b[43m,\u001b[49m\u001b[43m \u001b[49m\u001b[43mlower\u001b[49m\u001b[38;5;241;43m=\u001b[39;49m\u001b[43mlower\u001b[49m\u001b[43m,\u001b[49m\u001b[43m \u001b[49m\u001b[43moverwrite_a\u001b[49m\u001b[38;5;241;43m=\u001b[39;49m\u001b[43moverwrite_a\u001b[49m\u001b[43m,\u001b[49m\u001b[43m \u001b[49m\u001b[43mclean\u001b[49m\u001b[38;5;241;43m=\u001b[39;49m\u001b[38;5;28;43;01mFalse\u001b[39;49;00m\u001b[43m,\u001b[49m\n\u001b[1;32m    153\u001b[0m \u001b[43m                         \u001b[49m\u001b[43mcheck_finite\u001b[49m\u001b[38;5;241;43m=\u001b[39;49m\u001b[43mcheck_finite\u001b[49m\u001b[43m)\u001b[49m\n\u001b[1;32m    154\u001b[0m     \u001b[38;5;28;01mreturn\u001b[39;00m c, lower\n",
      "File \u001b[0;32m~/miniconda3/envs/gproc/lib/python3.9/site-packages/scipy/linalg/decomp_cholesky.py:17\u001b[0m, in \u001b[0;36m_cholesky\u001b[0;34m(a, lower, overwrite_a, clean, check_finite)\u001b[0m\n\u001b[1;32m     13\u001b[0m \u001b[38;5;28;01mdef\u001b[39;00m \u001b[38;5;21m_cholesky\u001b[39m(a, lower\u001b[38;5;241m=\u001b[39m\u001b[38;5;28;01mFalse\u001b[39;00m, overwrite_a\u001b[38;5;241m=\u001b[39m\u001b[38;5;28;01mFalse\u001b[39;00m, clean\u001b[38;5;241m=\u001b[39m\u001b[38;5;28;01mTrue\u001b[39;00m,\n\u001b[1;32m     14\u001b[0m               check_finite\u001b[38;5;241m=\u001b[39m\u001b[38;5;28;01mTrue\u001b[39;00m):\n\u001b[1;32m     15\u001b[0m     \u001b[38;5;124;03m\"\"\"Common code for cholesky() and cho_factor().\"\"\"\u001b[39;00m\n\u001b[0;32m---> 17\u001b[0m     a1 \u001b[38;5;241m=\u001b[39m \u001b[43masarray_chkfinite\u001b[49m\u001b[43m(\u001b[49m\u001b[43ma\u001b[49m\u001b[43m)\u001b[49m \u001b[38;5;28;01mif\u001b[39;00m check_finite \u001b[38;5;28;01melse\u001b[39;00m asarray(a)\n\u001b[1;32m     18\u001b[0m     a1 \u001b[38;5;241m=\u001b[39m atleast_2d(a1)\n\u001b[1;32m     20\u001b[0m     \u001b[38;5;66;03m# Dimension check\u001b[39;00m\n",
      "File \u001b[0;32m~/miniconda3/envs/gproc/lib/python3.9/site-packages/numpy/lib/function_base.py:603\u001b[0m, in \u001b[0;36masarray_chkfinite\u001b[0;34m(a, dtype, order)\u001b[0m\n\u001b[1;32m    601\u001b[0m a \u001b[38;5;241m=\u001b[39m asarray(a, dtype\u001b[38;5;241m=\u001b[39mdtype, order\u001b[38;5;241m=\u001b[39morder)\n\u001b[1;32m    602\u001b[0m \u001b[38;5;28;01mif\u001b[39;00m a\u001b[38;5;241m.\u001b[39mdtype\u001b[38;5;241m.\u001b[39mchar \u001b[38;5;129;01min\u001b[39;00m typecodes[\u001b[38;5;124m'\u001b[39m\u001b[38;5;124mAllFloat\u001b[39m\u001b[38;5;124m'\u001b[39m] \u001b[38;5;129;01mand\u001b[39;00m \u001b[38;5;129;01mnot\u001b[39;00m np\u001b[38;5;241m.\u001b[39misfinite(a)\u001b[38;5;241m.\u001b[39mall():\n\u001b[0;32m--> 603\u001b[0m     \u001b[38;5;28;01mraise\u001b[39;00m \u001b[38;5;167;01mValueError\u001b[39;00m(\n\u001b[1;32m    604\u001b[0m         \u001b[38;5;124m\"\u001b[39m\u001b[38;5;124marray must not contain infs or NaNs\u001b[39m\u001b[38;5;124m\"\u001b[39m)\n\u001b[1;32m    605\u001b[0m \u001b[38;5;28;01mreturn\u001b[39;00m a\n",
      "\u001b[0;31mValueError\u001b[0m: array must not contain infs or NaNs"
     ]
    }
   ],
   "source": [
    "expectation_propagation_probit(y, gram)"
   ]
  },
  {
   "cell_type": "code",
   "execution_count": null,
   "id": "9d405858-1321-47fd-b3e6-d4b29a3244f3",
   "metadata": {},
   "outputs": [],
   "source": []
  }
 ],
 "metadata": {
  "kernelspec": {
   "display_name": "Python 3 (ipykernel)",
   "language": "python",
   "name": "python3"
  },
  "language_info": {
   "codemirror_mode": {
    "name": "ipython",
    "version": 3
   },
   "file_extension": ".py",
   "mimetype": "text/x-python",
   "name": "python",
   "nbconvert_exporter": "python",
   "pygments_lexer": "ipython3",
   "version": "3.9.12"
  }
 },
 "nbformat": 4,
 "nbformat_minor": 5
}
