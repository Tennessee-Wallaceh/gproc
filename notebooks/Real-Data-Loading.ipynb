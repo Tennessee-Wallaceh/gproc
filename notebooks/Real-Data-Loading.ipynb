{
 "cells": [
  {
   "cell_type": "code",
   "execution_count": null,
   "id": "12c56720-6470-4d24-a3b9-43a28532c4b3",
   "metadata": {},
   "outputs": [],
   "source": [
    "from gproc.load_data import load_real_data, load_real_data_train_test"
   ]
  },
  {
   "cell_type": "code",
   "execution_count": null,
   "id": "42c6d557-3a51-4946-808d-7b32a23aa8d6",
   "metadata": {},
   "outputs": [],
   "source": [
    "X, y = load_real_data(\"../data/breastcancer/data.txt\")"
   ]
  },
  {
   "cell_type": "code",
   "execution_count": null,
   "id": "dbf8d693-fd12-459f-8424-00033f510864",
   "metadata": {},
   "outputs": [],
   "source": [
    "X.shape"
   ]
  },
  {
   "cell_type": "code",
   "execution_count": null,
   "id": "ec1dabc8-e8f1-422c-8931-6a215bfc4197",
   "metadata": {},
   "outputs": [],
   "source": [
    "y.shape"
   ]
  },
  {
   "cell_type": "code",
   "execution_count": null,
   "id": "f34d1817-0e60-4c04-ac0e-9614c4bb9e2f",
   "metadata": {},
   "outputs": [],
   "source": [
    "X_train, y_train, X_test, y_test = load_real_data_train_test(\"../data/breastcancer/data.txt\")"
   ]
  },
  {
   "cell_type": "code",
   "execution_count": null,
   "id": "a037794d-d55f-479e-8f61-a6bc4c441d45",
   "metadata": {},
   "outputs": [],
   "source": [
    "X_train.shape"
   ]
  },
  {
   "cell_type": "code",
   "execution_count": null,
   "id": "c1db8594-32f0-489f-aa17-b5c8c0cb85c3",
   "metadata": {},
   "outputs": [],
   "source": [
    "X_test.shape"
   ]
  },
  {
   "cell_type": "code",
   "execution_count": null,
   "id": "d3b9a1bd-9679-4671-8f36-bc751de71711",
   "metadata": {},
   "outputs": [],
   "source": [
    "y_train.shape"
   ]
  },
  {
   "cell_type": "code",
   "execution_count": null,
   "id": "0687929d-50cd-4f1c-8cbd-f08dbacc76bc",
   "metadata": {},
   "outputs": [],
   "source": [
    "y_test.shape"
   ]
  }
 ],
 "metadata": {
  "kernelspec": {
   "display_name": "Python 3 (ipykernel)",
   "language": "python",
   "name": "python3"
  },
  "language_info": {
   "codemirror_mode": {
    "name": "ipython",
    "version": 3
   },
   "file_extension": ".py",
   "mimetype": "text/x-python",
   "name": "python",
   "nbconvert_exporter": "python",
   "pygments_lexer": "ipython3",
   "version": "3.9.12"
  }
 },
 "nbformat": 4,
 "nbformat_minor": 5
}
